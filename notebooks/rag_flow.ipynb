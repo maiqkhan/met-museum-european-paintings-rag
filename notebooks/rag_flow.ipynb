{
 "cells": [
  {
   "cell_type": "code",
   "execution_count": 2,
   "id": "2e668e33",
   "metadata": {},
   "outputs": [
    {
     "data": {
      "text/plain": [
       "True"
      ]
     },
     "execution_count": 2,
     "metadata": {},
     "output_type": "execute_result"
    }
   ],
   "source": [
    "from dotenv import load_dotenv\n",
    "\n",
    "load_dotenv()"
   ]
  },
  {
   "cell_type": "code",
   "execution_count": 3,
   "id": "3894c6c1",
   "metadata": {},
   "outputs": [
    {
     "data": {
      "text/plain": [
       "CollectionsResponse(collections=[CollectionDescription(name='met-museum-euro-artworks')])"
      ]
     },
     "execution_count": 3,
     "metadata": {},
     "output_type": "execute_result"
    }
   ],
   "source": [
    "from qdrant_client import QdrantClient\n",
    "\n",
    "client = QdrantClient(\"http://localhost:6333\")\n",
    "client.get_collections()"
   ]
  },
  {
   "cell_type": "code",
   "execution_count": 4,
   "id": "09e59d12",
   "metadata": {},
   "outputs": [],
   "source": [
    "from qdrant_client import models\n",
    "\n",
    "def multi_stage_search(query: str, limit: int = 5) -> list[models.ScoredPoint]:\n",
    "    results = client.query_points(\n",
    "        collection_name=\"met-museum-euro-artworks\",\n",
    "        prefetch=[\n",
    "            models.Prefetch(\n",
    "                query=models.Document(\n",
    "                    text=query,\n",
    "                    model=\"jinaai/jina-embeddings-v2-small-en\",\n",
    "                ),\n",
    "                using=\"jina-small\",\n",
    "                # Prefetch ten times more results, then\n",
    "                # expected to return, so we can really rerank\n",
    "                limit=(10 * limit),\n",
    "            ),\n",
    "        ],\n",
    "        query=models.Document(\n",
    "            text=query,\n",
    "            model=\"Qdrant/bm25\", \n",
    "        ),\n",
    "        using=\"bm25\",\n",
    "        limit=limit,\n",
    "        with_payload=True,\n",
    "    )\n",
    "\n",
    "    print(results)\n",
    "\n",
    "    return results.points"
   ]
  },
  {
   "cell_type": "code",
   "execution_count": 5,
   "id": "0f1b8f48",
   "metadata": {},
   "outputs": [],
   "source": [
    "def build_prompt(query, search_results):\n",
    "    \n",
    "    context = \"\"\n",
    "\n",
    "    for doc in search_results:\n",
    "        print(doc)\n",
    "        context = context + f\"artwork_description: {doc.payload['artwork_text']}\\nimage_url: {doc.payload['artwork_image_url']}\\n\\n\"\n",
    "\n",
    "    prompt = f\"\"\"\n",
    "        You are an AI assistant that answers user questions about artworks in the European Paintings collection at the Metropolitan Museum of Art. \n",
    "        You will be given context information from the museum's knowledge base. Use ONLY this context to answer the user's question. \n",
    "        If the answer cannot be found in the context, say \"I could not find that information in the collection. Could you elaborate further on your question?\" and then explain what is confusing you about the question. \n",
    "        Do not hallucinate or make up facts.\n",
    "\n",
    "        Context:\n",
    "        {context}\n",
    "\n",
    "        User Question:\n",
    "        {query}\n",
    "\n",
    "        Instructions:\n",
    "        - Answer in clear, concise, and user-friendly language. \n",
    "        - If available, include the title, artist, date, medium, and link to the official museum page. \n",
    "        - If images are provided in the context, return their URLs so they can be displayed. \n",
    "        - Keep the response factual and grounded in the provided context.\n",
    "\n",
    "\"\"\".strip()\n",
    "    \n",
    "    return prompt\n",
    "\n",
    "    "
   ]
  },
  {
   "cell_type": "code",
   "execution_count": 6,
   "id": "f42ada04",
   "metadata": {},
   "outputs": [],
   "source": [
    "from openai import OpenAI\n",
    "\n",
    "openai_client = OpenAI()\n",
    "def llm(prompt):\n",
    "    response = openai_client.chat.completions.create(\n",
    "        model='gpt-4o-mini',\n",
    "        messages=[{\"role\": \"user\", \"content\": prompt}]\n",
    "    )\n",
    "    \n",
    "    return response.choices[0].message.content"
   ]
  },
  {
   "cell_type": "code",
   "execution_count": 7,
   "id": "19846b71",
   "metadata": {},
   "outputs": [],
   "source": [
    "def rag(query):\n",
    "    search_results = multi_stage_search(query)\n",
    "    prompt = build_prompt(query, search_results)\n",
    "    answer = llm(prompt)\n",
    "    return answer"
   ]
  },
  {
   "cell_type": "code",
   "execution_count": 8,
   "id": "3c9836a4",
   "metadata": {},
   "outputs": [
    {
     "data": {
      "application/vnd.jupyter.widget-view+json": {
       "model_id": "bd6701271964402c976978134ec01322",
       "version_major": 2,
       "version_minor": 0
      },
      "text/plain": [
       "Fetching 18 files:   0%|          | 0/18 [00:00<?, ?it/s]"
      ]
     },
     "metadata": {},
     "output_type": "display_data"
    },
    {
     "data": {
      "application/vnd.jupyter.widget-view+json": {
       "model_id": "ef187db5453a482299bab9e7bb7f36e2",
       "version_major": 2,
       "version_minor": 0
      },
      "text/plain": [
       "arabic.txt: 0.00B [00:00, ?B/s]"
      ]
     },
     "metadata": {},
     "output_type": "display_data"
    },
    {
     "data": {
      "application/vnd.jupyter.widget-view+json": {
       "model_id": "344597a2cb2344e1bfd023c421e03f2f",
       "version_major": 2,
       "version_minor": 0
      },
      "text/plain": [
       "dutch.txt:   0%|          | 0.00/453 [00:00<?, ?B/s]"
      ]
     },
     "metadata": {},
     "output_type": "display_data"
    },
    {
     "data": {
      "application/vnd.jupyter.widget-view+json": {
       "model_id": "5c82734451d64203a70716bd7bfef4e1",
       "version_major": 2,
       "version_minor": 0
      },
      "text/plain": [
       "french.txt:   0%|          | 0.00/813 [00:00<?, ?B/s]"
      ]
     },
     "metadata": {},
     "output_type": "display_data"
    },
    {
     "data": {
      "application/vnd.jupyter.widget-view+json": {
       "model_id": "393dd5f858c24e18ae222b261e5db2f8",
       "version_major": 2,
       "version_minor": 0
      },
      "text/plain": [
       "finnish.txt: 0.00B [00:00, ?B/s]"
      ]
     },
     "metadata": {},
     "output_type": "display_data"
    },
    {
     "data": {
      "application/vnd.jupyter.widget-view+json": {
       "model_id": "311639a9a8af454b8313dae8e881898c",
       "version_major": 2,
       "version_minor": 0
      },
      "text/plain": [
       "config.json:   0%|          | 0.00/2.00 [00:00<?, ?B/s]"
      ]
     },
     "metadata": {},
     "output_type": "display_data"
    },
    {
     "data": {
      "application/vnd.jupyter.widget-view+json": {
       "model_id": "53b54f91af8748a4a2ca186278406c2c",
       "version_major": 2,
       "version_minor": 0
      },
      "text/plain": [
       "english.txt:   0%|          | 0.00/936 [00:00<?, ?B/s]"
      ]
     },
     "metadata": {},
     "output_type": "display_data"
    },
    {
     "data": {
      "application/vnd.jupyter.widget-view+json": {
       "model_id": "13b7e9eec6d147f0a1c49711535b59d2",
       "version_major": 2,
       "version_minor": 0
      },
      "text/plain": [
       "german.txt: 0.00B [00:00, ?B/s]"
      ]
     },
     "metadata": {},
     "output_type": "display_data"
    },
    {
     "data": {
      "application/vnd.jupyter.widget-view+json": {
       "model_id": "f044c906e95a4fb4a923c1f1f0eb44a7",
       "version_major": 2,
       "version_minor": 0
      },
      "text/plain": [
       "danish.txt:   0%|          | 0.00/424 [00:00<?, ?B/s]"
      ]
     },
     "metadata": {},
     "output_type": "display_data"
    },
    {
     "data": {
      "application/vnd.jupyter.widget-view+json": {
       "model_id": "952b036d921e485dbd21579b694b96bc",
       "version_major": 2,
       "version_minor": 0
      },
      "text/plain": [
       "greek.txt: 0.00B [00:00, ?B/s]"
      ]
     },
     "metadata": {},
     "output_type": "display_data"
    },
    {
     "data": {
      "application/vnd.jupyter.widget-view+json": {
       "model_id": "7ca5549277ff48fcbf34ac5224b0efd3",
       "version_major": 2,
       "version_minor": 0
      },
      "text/plain": [
       "norwegian.txt:   0%|          | 0.00/851 [00:00<?, ?B/s]"
      ]
     },
     "metadata": {},
     "output_type": "display_data"
    },
    {
     "data": {
      "application/vnd.jupyter.widget-view+json": {
       "model_id": "fa6a5866fa7d4fbcaea56df75bcf0690",
       "version_major": 2,
       "version_minor": 0
      },
      "text/plain": [
       "portuguese.txt: 0.00B [00:00, ?B/s]"
      ]
     },
     "metadata": {},
     "output_type": "display_data"
    },
    {
     "data": {
      "application/vnd.jupyter.widget-view+json": {
       "model_id": "bdff489bf21d45bab6b9393660020e87",
       "version_major": 2,
       "version_minor": 0
      },
      "text/plain": [
       "spanish.txt: 0.00B [00:00, ?B/s]"
      ]
     },
     "metadata": {},
     "output_type": "display_data"
    },
    {
     "data": {
      "application/vnd.jupyter.widget-view+json": {
       "model_id": "e9a3414158b946718bb93657aa085dbf",
       "version_major": 2,
       "version_minor": 0
      },
      "text/plain": [
       "hungarian.txt: 0.00B [00:00, ?B/s]"
      ]
     },
     "metadata": {},
     "output_type": "display_data"
    },
    {
     "data": {
      "application/vnd.jupyter.widget-view+json": {
       "model_id": "e473dfd447f949698f792ff370053da5",
       "version_major": 2,
       "version_minor": 0
      },
      "text/plain": [
       "italian.txt: 0.00B [00:00, ?B/s]"
      ]
     },
     "metadata": {},
     "output_type": "display_data"
    },
    {
     "data": {
      "application/vnd.jupyter.widget-view+json": {
       "model_id": "a3a3912b579e40c59316507f7ede41cd",
       "version_major": 2,
       "version_minor": 0
      },
      "text/plain": [
       "romanian.txt: 0.00B [00:00, ?B/s]"
      ]
     },
     "metadata": {},
     "output_type": "display_data"
    },
    {
     "data": {
      "application/vnd.jupyter.widget-view+json": {
       "model_id": "0a02d0fdb9104988b849382d23b5fe2d",
       "version_major": 2,
       "version_minor": 0
      },
      "text/plain": [
       "russian.txt: 0.00B [00:00, ?B/s]"
      ]
     },
     "metadata": {},
     "output_type": "display_data"
    },
    {
     "data": {
      "application/vnd.jupyter.widget-view+json": {
       "model_id": "1ddcc6abaaf7487da5bb941d30423ef2",
       "version_major": 2,
       "version_minor": 0
      },
      "text/plain": [
       "swedish.txt:   0%|          | 0.00/559 [00:00<?, ?B/s]"
      ]
     },
     "metadata": {},
     "output_type": "display_data"
    },
    {
     "data": {
      "application/vnd.jupyter.widget-view+json": {
       "model_id": "b7e15e2e72274340a0d1cabceede236b",
       "version_major": 2,
       "version_minor": 0
      },
      "text/plain": [
       "turkish.txt:   0%|          | 0.00/260 [00:00<?, ?B/s]"
      ]
     },
     "metadata": {},
     "output_type": "display_data"
    },
    {
     "data": {
      "application/vnd.jupyter.widget-view+json": {
       "model_id": "e2af49bfc2424c048a9f275915ac4cfc",
       "version_major": 2,
       "version_minor": 0
      },
      "text/plain": [
       "Fetching 5 files:   0%|          | 0/5 [00:00<?, ?it/s]"
      ]
     },
     "metadata": {},
     "output_type": "display_data"
    },
    {
     "data": {
      "application/vnd.jupyter.widget-view+json": {
       "model_id": "bdcb654c063040eda86230f50fe587fe",
       "version_major": 2,
       "version_minor": 0
      },
      "text/plain": [
       "tokenizer.json: 0.00B [00:00, ?B/s]"
      ]
     },
     "metadata": {},
     "output_type": "display_data"
    },
    {
     "data": {
      "application/vnd.jupyter.widget-view+json": {
       "model_id": "276acabbc7ea47d4955a453e48b6918f",
       "version_major": 2,
       "version_minor": 0
      },
      "text/plain": [
       "special_tokens_map.json:   0%|          | 0.00/125 [00:00<?, ?B/s]"
      ]
     },
     "metadata": {},
     "output_type": "display_data"
    },
    {
     "data": {
      "application/vnd.jupyter.widget-view+json": {
       "model_id": "0bae79adb5dc45ce997ea5c8af1ca6d3",
       "version_major": 2,
       "version_minor": 0
      },
      "text/plain": [
       "tokenizer_config.json:   0%|          | 0.00/367 [00:00<?, ?B/s]"
      ]
     },
     "metadata": {},
     "output_type": "display_data"
    },
    {
     "data": {
      "application/vnd.jupyter.widget-view+json": {
       "model_id": "24925259b8c74b078bda92f8c976a852",
       "version_major": 2,
       "version_minor": 0
      },
      "text/plain": [
       "config.json: 0.00B [00:00, ?B/s]"
      ]
     },
     "metadata": {},
     "output_type": "display_data"
    },
    {
     "data": {
      "application/vnd.jupyter.widget-view+json": {
       "model_id": "ebb3d8e1126249d8bc33a54fc914702f",
       "version_major": 2,
       "version_minor": 0
      },
      "text/plain": [
       "onnx/model.onnx:   0%|          | 0.00/130M [00:00<?, ?B/s]"
      ]
     },
     "metadata": {},
     "output_type": "display_data"
    },
    {
     "name": "stdout",
     "output_type": "stream",
     "text": [
      "points=[ScoredPoint(id=438559, version=0, score=8.453044, payload={'artwork_text': \"The Sack of Jerusalem by the Romans by François Joseph Heim. The description of the artwork is: 'Heim, the pre-eminent official painter of the Bourbon Restoration, is one of the least known painters to have achieved fame and success in France in the 1820s. His oil sketches have always been prized by connoisseurs, and this one is especially vigorous. It is one of two preparatory sketches for the much larger picture of the same subject that was shown at the Salon of 1824 (Musée du Louvre, Paris). The painting is filled with dramatic action as the Romans attack the Jerusalemites against a backdrop of classical buildings with crowds gathered on the steps.'. The source/origin of the artwork is Catharine Lorillard Wolfe Collection, Wolfe Fun, the Metropolitan Museum of Art acquired the artwork in 2002. The medium for the painting is Oil on canvas, and the dimensions are 14 x 15 in. (35.6 x 38.1 cm). The artwork is currently not showcased at the museum. François Joseph Heim is French, their bio is: 'French, Belfort 1787–1865 Paris'. François Joseph Heim lived from 1787 to 1865. The painting was started and completed in 1824, and is a popular and important artwork in François Joseph Heim's collection, and is currently in the public domain. The following artists are related to The Sack of Jerusalem by the Romans : ['François Joseph Heim']. The following tags are related to The Sack of Jerusalem by the Romans : ['Battles', 'Soldiers', 'Infants', 'Men', 'Women', 'Horses'].\", 'artwork_image_url': 'https://images.metmuseum.org/CRDImages/ep/original/DP-17607-001.jpg', 'artist_url': 'https://www.wikidata.org/wiki/Q3083465', 'artwork_bio_url': 'https://www.metmuseum.org/art/collection/search/438559'}, vector=None, shard_key=None, order_value=None), ScoredPoint(id=436418, version=0, score=8.33739, payload={'artwork_text': \"Jerusalem from the Mount of Olives by Charles-Théodore Frère. The description of the artwork is: 'This panoramic view was commissioned from Frère by the New York collector Catharine Lorillard Wolfe by 1880, when it was first described as being in her possession. Because the artist had not been to the Holy Land for twenty years—he had last traveled there as part of Empress Eugénie’s retinue in 1861—the composition must be based on one or more earlier studies or photographs.'. The source/origin of the artwork is Catharine Lorillard Wolfe Collection, Bequest of Catharine Lorillard Wolf, the Metropolitan Museum of Art acquired the artwork in 1887. The medium for the painting is Oil on canvas, and the dimensions are 29 1/2 x 43 1/2 in. (74.9 x 110.5 cm). The artwork is presented at gallery 804, located on the map here https://maps.metmuseum.org/poi?_gl=1%2A1958ftb%2A_ga%2AMjk2MzAzMzczLjE3MDE4NzY3NzM.%2A_ga_Y0W8DGNBTB%2AMTcwODk4Mjg3Ny4yNDcuMS4xNzA4OTgyODgxLjAuMC4w&feature=d7aa2496e2d25258a25e3ca24e46d759&floor=2&screenmode=base&search=405#19/40.7782083/-73.9638754/-61. Charles-Théodore Frère is French, their bio is: 'French, Paris 1814–1888 Paris'. Charles-Théodore Frère lived from 1814 to 1888. The painting was started in 1870 and completed in 1880, and is a popular and important artwork in Charles-Théodore Frère's collection, and is currently in the public domain. The following artists are related to Jerusalem from the Mount of Olives : ['Charles-Théodore Frère']. The following tags are related to Jerusalem from the Mount of Olives : ['Tents', 'Men', 'Camels', 'Deserts', 'Hills', 'Orientalist'].\", 'artwork_image_url': 'https://images.metmuseum.org/CRDImages/ep/original/DT2000.jpg', 'artist_url': 'https://www.wikidata.org/wiki/Q323928', 'artwork_bio_url': 'https://www.metmuseum.org/art/collection/search/436418'}, vector=None, shard_key=None, order_value=None), ScoredPoint(id=437172, version=0, score=5.672818, payload={'artwork_text': 'The Crucifixion by Bartolomé Estebán Murillo. The description of the artwork is: \\'This oil sketch helped Murillo to prepare a large painting that is today in the Museo del Prado in Madrid. The artist’s characteristic smoky atmosphere, achieved through rough paint handling and masterful distribution of light, creates an ideal image for devout meditation at this small scale: the sun has set, the cloudy sky is streaked with moonlight, Christ’s body falls limp, and Jerusalem can be seen in the dim distance. This intimate canvas is possibly the same \"little Crucifixion\" owned by Sebastián Martínez (1747–1800), whose portrait by Goya is also in The Met collection.\\'. The source/origin of the artwork is Bequest of Harry G. Sperlin, the Metropolitan Museum of Art acquired the artwork in 1971. The medium for the painting is Oil on canvas, and the dimensions are 20 x 13 in. (50.8 x 33 cm). The artwork is presented at gallery 624, located on the map here https://maps.metmuseum.org/poi?_gl=1%2A1ez7ye8%2A_ga%2AMjk2MzAzMzczLjE3MDE4NzY3NzM.%2A_ga_Y0W8DGNBTB%2AMTcwMjk5NTAzNS4zNS4xLjE3MDMwMDEyMjYuMC4wLjA.&feature=1cdb276c334007a135478a8c3a0017f9&floor=2&screenmode=base&search=403#19/40.7800307/-73.9637778/-61. Bartolomé Estebán Murillo is Spanish, their bio is: \\'Spanish, Seville 1617–1682 Seville\\'. Bartolomé Estebán Murillo lived from 1617 to 1682. The painting was started in 1670 and completed in 1680, and is a popular and important artwork in Bartolomé Estebán Murillo\\'s collection, and is currently in the public domain. The following artists are related to The Crucifixion : [\\'Bartolomé Estebán Murillo\\']. The following tags are related to The Crucifixion : [\\'Christ\\', \\'Cross\\', \\'Crucifixion\\'].', 'artwork_image_url': 'https://images.metmuseum.org/CRDImages/ep/original/DT10248.jpg', 'artist_url': 'https://www.wikidata.org/wiki/Q192062', 'artwork_bio_url': 'https://www.metmuseum.org/art/collection/search/437172'}, vector=None, shard_key=None, order_value=None), ScoredPoint(id=436098, version=0, score=5.651773, payload={'artwork_text': \"The Crucifixion by Gerard David. The description of the artwork is: 'In this depiction of Christ’s Crucifixion, the Church Father Saint Jerome, who translated the Bible into Latin, appears to visualize the scene based on his reading of scripture. True to the account of the Gospels, David has provided an appropriate sense of time and space. The sky is darkened at the moment of Christ’s death on Golgotha (literally, “the place of the skull”), and the holy city of Jerusalem with its prominent Church of the Holy Sepulcher forms the backdrop.'. The source/origin of the artwork is Rogers Fun, the Metropolitan Museum of Art acquired the artwork in 1909. The medium for the painting is Oil on wood, and the dimensions are Overall 21 x 15 in. (53.3 x 38.1 cm); painted surface 20 5/8 x 14 3/4 in. (52.5 x 37.5 cm). The artwork is presented at gallery 636, located on the map here https://maps.metmuseum.org/poi?_gl=1%2A1ez7ye8%2A_ga%2AMjk2MzAzMzczLjE3MDE4NzY3NzM.%2A_ga_Y0W8DGNBTB%2AMTcwMjk5NTAzNS4zNS4xLjE3MDMwMDEyMjYuMC4wLjA.&feature=cd527b94676fc211dacf0294d7e3d148&floor=2&screenmode=base&search=403#19/40.779468/-73.9637799/-61. Gerard David is Netherlandish, their bio is: 'Netherlandish, Oudewater ca. 1455–1523 Bruges'. Gerard David lived from 1455 to 1523. The painting was started in 1495 and completed in 1500, and is a popular and important artwork in Gerard David's collection, and is currently in the public domain. The following artists are related to The Crucifixion : ['Gerard David']. The following tags are related to The Crucifixion : ['Christ', 'Mary Magdalene', 'Saint Jerome', 'Saint John the Evangelist', 'Virgin Mary', 'Crucifixion'].\", 'artwork_image_url': 'https://images.metmuseum.org/CRDImages/ep/original/DP-17230-001.jpg', 'artist_url': 'https://www.wikidata.org/wiki/Q333380', 'artwork_bio_url': 'https://www.metmuseum.org/art/collection/search/436098'}, vector=None, shard_key=None, order_value=None), ScoredPoint(id=439977, version=0, score=5.5288167, payload={'artwork_text': \"Christ Carrying the Cross by Jan Gossart (called Mabuse). The description of the artwork is: 'Christ appears isolated outside the walls of Jerusalem, stumbling and weighed down by the heavy burden of the cross. His elaborate pose reflects Gossart’s study of Roman sculpture. Intended for private meditation, this poignant depiction of the suffering Savior responds to popular devotional texts that advocated personal and empathetic contemplation focused on the individual events of Christ’s Passion.'. The source/origin of the artwork is Gift of Honorable J. William Middendorf II, and Purchase, Walter and Leonore Annenberg and The Annenberg Foundation Gift, Director's Fund, Gift of George A. Hearn, by exchange, and Marquand and The Alfred N. Punnett Endowment Fund, the Metropolitan Museum of Art acquired the artwork in 2016. The medium for the painting is Oil on oak, and the dimensions are 9 7/8 × 7 1/2 in. (25.1 × 19 cm). The artwork is presented at gallery 635, located on the map here https://maps.metmuseum.org/poi?_gl=1%2A1ez7ye8%2A_ga%2AMjk2MzAzMzczLjE3MDE4NzY3NzM.%2A_ga_Y0W8DGNBTB%2AMTcwMjk5NTAzNS4zNS4xLjE3MDMwMDEyMjYuMC4wLjA.&feature=9778cbf5b36cf5a567145586344d95d3&floor=2&screenmode=base&search=403#19/40.7794124/-73.963648/-61. Jan Gossart (called Mabuse) is Netherlandish, their bio is: 'Netherlandish, Maubeuge ca. 1478–1532 Antwerp (?)'. Jan Gossart (called Mabuse) lived from 1478 to 1532. The painting was started in 1520 and completed in 1525, and is a popular and important artwork in Jan Gossart (called Mabuse)'s collection, and is currently in the public domain. The following artists are related to Christ Carrying the Cross : ['Jan Gossart (called Mabuse)']. The following tags are related to Christ Carrying the Cross : ['Christ', 'Cross', 'Bearing the Cross'].\", 'artwork_image_url': 'https://images.metmuseum.org/CRDImages/ep/original/DP368972.jpg', 'artist_url': 'https://www.wikidata.org/wiki/Q346952', 'artwork_bio_url': 'https://www.metmuseum.org/art/collection/search/439977'}, vector=None, shard_key=None, order_value=None)]\n",
      "id=438559 version=0 score=8.453044 payload={'artwork_text': \"The Sack of Jerusalem by the Romans by François Joseph Heim. The description of the artwork is: 'Heim, the pre-eminent official painter of the Bourbon Restoration, is one of the least known painters to have achieved fame and success in France in the 1820s. His oil sketches have always been prized by connoisseurs, and this one is especially vigorous. It is one of two preparatory sketches for the much larger picture of the same subject that was shown at the Salon of 1824 (Musée du Louvre, Paris). The painting is filled with dramatic action as the Romans attack the Jerusalemites against a backdrop of classical buildings with crowds gathered on the steps.'. The source/origin of the artwork is Catharine Lorillard Wolfe Collection, Wolfe Fun, the Metropolitan Museum of Art acquired the artwork in 2002. The medium for the painting is Oil on canvas, and the dimensions are 14 x 15 in. (35.6 x 38.1 cm). The artwork is currently not showcased at the museum. François Joseph Heim is French, their bio is: 'French, Belfort 1787–1865 Paris'. François Joseph Heim lived from 1787 to 1865. The painting was started and completed in 1824, and is a popular and important artwork in François Joseph Heim's collection, and is currently in the public domain. The following artists are related to The Sack of Jerusalem by the Romans : ['François Joseph Heim']. The following tags are related to The Sack of Jerusalem by the Romans : ['Battles', 'Soldiers', 'Infants', 'Men', 'Women', 'Horses'].\", 'artwork_image_url': 'https://images.metmuseum.org/CRDImages/ep/original/DP-17607-001.jpg', 'artist_url': 'https://www.wikidata.org/wiki/Q3083465', 'artwork_bio_url': 'https://www.metmuseum.org/art/collection/search/438559'} vector=None shard_key=None order_value=None\n",
      "id=436418 version=0 score=8.33739 payload={'artwork_text': \"Jerusalem from the Mount of Olives by Charles-Théodore Frère. The description of the artwork is: 'This panoramic view was commissioned from Frère by the New York collector Catharine Lorillard Wolfe by 1880, when it was first described as being in her possession. Because the artist had not been to the Holy Land for twenty years—he had last traveled there as part of Empress Eugénie’s retinue in 1861—the composition must be based on one or more earlier studies or photographs.'. The source/origin of the artwork is Catharine Lorillard Wolfe Collection, Bequest of Catharine Lorillard Wolf, the Metropolitan Museum of Art acquired the artwork in 1887. The medium for the painting is Oil on canvas, and the dimensions are 29 1/2 x 43 1/2 in. (74.9 x 110.5 cm). The artwork is presented at gallery 804, located on the map here https://maps.metmuseum.org/poi?_gl=1%2A1958ftb%2A_ga%2AMjk2MzAzMzczLjE3MDE4NzY3NzM.%2A_ga_Y0W8DGNBTB%2AMTcwODk4Mjg3Ny4yNDcuMS4xNzA4OTgyODgxLjAuMC4w&feature=d7aa2496e2d25258a25e3ca24e46d759&floor=2&screenmode=base&search=405#19/40.7782083/-73.9638754/-61. Charles-Théodore Frère is French, their bio is: 'French, Paris 1814–1888 Paris'. Charles-Théodore Frère lived from 1814 to 1888. The painting was started in 1870 and completed in 1880, and is a popular and important artwork in Charles-Théodore Frère's collection, and is currently in the public domain. The following artists are related to Jerusalem from the Mount of Olives : ['Charles-Théodore Frère']. The following tags are related to Jerusalem from the Mount of Olives : ['Tents', 'Men', 'Camels', 'Deserts', 'Hills', 'Orientalist'].\", 'artwork_image_url': 'https://images.metmuseum.org/CRDImages/ep/original/DT2000.jpg', 'artist_url': 'https://www.wikidata.org/wiki/Q323928', 'artwork_bio_url': 'https://www.metmuseum.org/art/collection/search/436418'} vector=None shard_key=None order_value=None\n",
      "id=437172 version=0 score=5.672818 payload={'artwork_text': 'The Crucifixion by Bartolomé Estebán Murillo. The description of the artwork is: \\'This oil sketch helped Murillo to prepare a large painting that is today in the Museo del Prado in Madrid. The artist’s characteristic smoky atmosphere, achieved through rough paint handling and masterful distribution of light, creates an ideal image for devout meditation at this small scale: the sun has set, the cloudy sky is streaked with moonlight, Christ’s body falls limp, and Jerusalem can be seen in the dim distance. This intimate canvas is possibly the same \"little Crucifixion\" owned by Sebastián Martínez (1747–1800), whose portrait by Goya is also in The Met collection.\\'. The source/origin of the artwork is Bequest of Harry G. Sperlin, the Metropolitan Museum of Art acquired the artwork in 1971. The medium for the painting is Oil on canvas, and the dimensions are 20 x 13 in. (50.8 x 33 cm). The artwork is presented at gallery 624, located on the map here https://maps.metmuseum.org/poi?_gl=1%2A1ez7ye8%2A_ga%2AMjk2MzAzMzczLjE3MDE4NzY3NzM.%2A_ga_Y0W8DGNBTB%2AMTcwMjk5NTAzNS4zNS4xLjE3MDMwMDEyMjYuMC4wLjA.&feature=1cdb276c334007a135478a8c3a0017f9&floor=2&screenmode=base&search=403#19/40.7800307/-73.9637778/-61. Bartolomé Estebán Murillo is Spanish, their bio is: \\'Spanish, Seville 1617–1682 Seville\\'. Bartolomé Estebán Murillo lived from 1617 to 1682. The painting was started in 1670 and completed in 1680, and is a popular and important artwork in Bartolomé Estebán Murillo\\'s collection, and is currently in the public domain. The following artists are related to The Crucifixion : [\\'Bartolomé Estebán Murillo\\']. The following tags are related to The Crucifixion : [\\'Christ\\', \\'Cross\\', \\'Crucifixion\\'].', 'artwork_image_url': 'https://images.metmuseum.org/CRDImages/ep/original/DT10248.jpg', 'artist_url': 'https://www.wikidata.org/wiki/Q192062', 'artwork_bio_url': 'https://www.metmuseum.org/art/collection/search/437172'} vector=None shard_key=None order_value=None\n",
      "id=436098 version=0 score=5.651773 payload={'artwork_text': \"The Crucifixion by Gerard David. The description of the artwork is: 'In this depiction of Christ’s Crucifixion, the Church Father Saint Jerome, who translated the Bible into Latin, appears to visualize the scene based on his reading of scripture. True to the account of the Gospels, David has provided an appropriate sense of time and space. The sky is darkened at the moment of Christ’s death on Golgotha (literally, “the place of the skull”), and the holy city of Jerusalem with its prominent Church of the Holy Sepulcher forms the backdrop.'. The source/origin of the artwork is Rogers Fun, the Metropolitan Museum of Art acquired the artwork in 1909. The medium for the painting is Oil on wood, and the dimensions are Overall 21 x 15 in. (53.3 x 38.1 cm); painted surface 20 5/8 x 14 3/4 in. (52.5 x 37.5 cm). The artwork is presented at gallery 636, located on the map here https://maps.metmuseum.org/poi?_gl=1%2A1ez7ye8%2A_ga%2AMjk2MzAzMzczLjE3MDE4NzY3NzM.%2A_ga_Y0W8DGNBTB%2AMTcwMjk5NTAzNS4zNS4xLjE3MDMwMDEyMjYuMC4wLjA.&feature=cd527b94676fc211dacf0294d7e3d148&floor=2&screenmode=base&search=403#19/40.779468/-73.9637799/-61. Gerard David is Netherlandish, their bio is: 'Netherlandish, Oudewater ca. 1455–1523 Bruges'. Gerard David lived from 1455 to 1523. The painting was started in 1495 and completed in 1500, and is a popular and important artwork in Gerard David's collection, and is currently in the public domain. The following artists are related to The Crucifixion : ['Gerard David']. The following tags are related to The Crucifixion : ['Christ', 'Mary Magdalene', 'Saint Jerome', 'Saint John the Evangelist', 'Virgin Mary', 'Crucifixion'].\", 'artwork_image_url': 'https://images.metmuseum.org/CRDImages/ep/original/DP-17230-001.jpg', 'artist_url': 'https://www.wikidata.org/wiki/Q333380', 'artwork_bio_url': 'https://www.metmuseum.org/art/collection/search/436098'} vector=None shard_key=None order_value=None\n",
      "id=439977 version=0 score=5.5288167 payload={'artwork_text': \"Christ Carrying the Cross by Jan Gossart (called Mabuse). The description of the artwork is: 'Christ appears isolated outside the walls of Jerusalem, stumbling and weighed down by the heavy burden of the cross. His elaborate pose reflects Gossart’s study of Roman sculpture. Intended for private meditation, this poignant depiction of the suffering Savior responds to popular devotional texts that advocated personal and empathetic contemplation focused on the individual events of Christ’s Passion.'. The source/origin of the artwork is Gift of Honorable J. William Middendorf II, and Purchase, Walter and Leonore Annenberg and The Annenberg Foundation Gift, Director's Fund, Gift of George A. Hearn, by exchange, and Marquand and The Alfred N. Punnett Endowment Fund, the Metropolitan Museum of Art acquired the artwork in 2016. The medium for the painting is Oil on oak, and the dimensions are 9 7/8 × 7 1/2 in. (25.1 × 19 cm). The artwork is presented at gallery 635, located on the map here https://maps.metmuseum.org/poi?_gl=1%2A1ez7ye8%2A_ga%2AMjk2MzAzMzczLjE3MDE4NzY3NzM.%2A_ga_Y0W8DGNBTB%2AMTcwMjk5NTAzNS4zNS4xLjE3MDMwMDEyMjYuMC4wLjA.&feature=9778cbf5b36cf5a567145586344d95d3&floor=2&screenmode=base&search=403#19/40.7794124/-73.963648/-61. Jan Gossart (called Mabuse) is Netherlandish, their bio is: 'Netherlandish, Maubeuge ca. 1478–1532 Antwerp (?)'. Jan Gossart (called Mabuse) lived from 1478 to 1532. The painting was started in 1520 and completed in 1525, and is a popular and important artwork in Jan Gossart (called Mabuse)'s collection, and is currently in the public domain. The following artists are related to Christ Carrying the Cross : ['Jan Gossart (called Mabuse)']. The following tags are related to Christ Carrying the Cross : ['Christ', 'Cross', 'Bearing the Cross'].\", 'artwork_image_url': 'https://images.metmuseum.org/CRDImages/ep/original/DP368972.jpg', 'artist_url': 'https://www.wikidata.org/wiki/Q346952', 'artwork_bio_url': 'https://www.metmuseum.org/art/collection/search/439977'} vector=None shard_key=None order_value=None\n"
     ]
    },
    {
     "data": {
      "text/plain": [
       "'Yes, there are paintings in the museum related to Jerusalem. Here are two notable examples:\\n\\n1. **Jerusalem from the Mount of Olives**\\n   - **Artist**: Charles-Théodore Frère\\n   - **Date**: Started in 1870, completed in 1880\\n   - **Medium**: Oil on canvas\\n   - **Dimensions**: 29 1/2 x 43 1/2 in. (74.9 x 110.5 cm)\\n   - **Current Location**: Gallery 804\\n   - **Image**: ![Jerusalem from the Mount of Olives](https://images.metmuseum.org/CRDImages/ep/original/DT2000.jpg)\\n   - **Museum Link**: [Jerusalem from the Mount of Olives](https://www.metmuseum.org/art/collection/search/405)\\n\\n2. **The Crucifixion**\\n   - **Artist**: Gerard David\\n   - **Date**: Started in 1495, completed in 1500\\n   - **Medium**: Oil on wood\\n   - **Dimensions**: Overall 21 x 15 in. (53.3 x 38.1 cm)\\n   - **Current Location**: Gallery 636\\n   - **Image**: ![The Crucifixion by Gerard David](https://images.metmuseum.org/CRDImages/ep/original/DP-17230-001.jpg)\\n   - **Museum Link**: [The Crucifixion by Gerard David](https://www.metmuseum.org/art/collection/search/403)\\n\\nIf you would like more information about other artworks or have further questions, feel free to ask!'"
      ]
     },
     "execution_count": 8,
     "metadata": {},
     "output_type": "execute_result"
    }
   ],
   "source": [
    "rag(\"Is there any paintings in the museum about Jerusalem?\")"
   ]
  },
  {
   "cell_type": "code",
   "execution_count": 36,
   "id": "1969a846",
   "metadata": {},
   "outputs": [
    {
     "data": {
      "text/plain": [
       "'Here are some oil on canvas paintings from the European Paintings collection at the Metropolitan Museum of Art:\\n\\n1. **La Grenouillère**  \\n   - **Artist:** Claude Monet  \\n   - **Date:** 1869  \\n   - **Medium:** Oil on canvas  \\n   - **Dimensions:** 29 3/8 x 39 1/4 in. (74.6 x 99.7 cm)  \\n   - **Gallery:** 818  \\n   - **Link:** [View La Grenouillère](https://maps.metmuseum.org/poi?_gl=1%2A1958ftb%2A_ga%2AMjk2MzAzMzczLjE3MDE4NzY3NzM.%2A_ga_Y0W8DGNBTB%2AMTcwODk4Mjg3Ny4yNDcuMS4xNzA4OTgyODgxLjAuMC4w&feature=f9f32fed0cb763c71a4c6bba3ad34ad3&floor=2&screenmode=base&search=405#19/40.7786001/-73.9640204/-61)  \\n   - ![La Grenouillère](https://images.metmuseum.org/CRDImages/ep/original/DT1999.jpg)\\n\\n2. **Edmond Cavé (1794–1852)**  \\n   - **Artist:** Jean Auguste Dominique Ingres  \\n   - **Date:** 1844  \\n   - **Medium:** Oil on canvas  \\n   - **Dimensions:** 16 x 12 7/8 in. (40.6 x 32.7 cm)  \\n   - **Gallery:** 801  \\n   - **Link:** [View Edmond Cavé](https://maps.metmuseum.org/?feature=LTczLjk2MzczNDQ4LDQwLjc3ODQ3MDc4QGxtQDcxMTQ4MjQ3OTM0Mw==)  \\n   - ![Edmond Cavé](https://images.metmuseum.org/CRDImages/ep/original/DT1996.jpg)\\n\\n3. **Curiosity**  \\n   - **Artist:** Gerard ter Borch the Younger  \\n   - **Date:** 1660-1662  \\n   - **Medium:** Oil on canvas  \\n   - **Dimensions:** 30 x 24 1/2 in. (76.2 x 62.2 cm)  \\n   - **Gallery:** 614  \\n   - **Link:** [View Curiosity](https://maps.metmuseum.org/poi?_gl=1%2A1ez7ye8%2A_ga%2AMjk2MzAzMzczLjE3MDE4NzY3NzM.%2A_ga_Y0W8DGNBTB%2AMTcwMjk5NTAzNS4zNS4xLjE3MDMwMDEyMjYuMC4wLjA.&feature=f3b2cea65c0aa1a82d2b315866720ce5&floor=2&screenmode=base&search=403#19/40.7793111/-73.9643025/-61)  \\n   - ![Curiosity](https://images.metmuseum.org/CRDImages/ep/original/DP145405.jpg)\\n\\n4. **By the Seashore**  \\n   - **Artist:** Auguste Renoir  \\n   - **Date:** 1883  \\n   - **Medium:** Oil on canvas  \\n   - **Dimensions:** 36 1/4 x 28 1/2 in. (92.1 x 72.4 cm)  \\n   - **Gallery:** 824  \\n   - **Link:** [View By the Seashore](https://maps.metmuseum.org/poi?_gl=1%2A1958ftb%2A_ga%2AMjk2MzAzMzczLjE3MDE4NzY3NzM.%2A_ga_Y0W8DGNBTB%2AMTcwODk4Mjg3Ny4yNDcuMS4xNzA4OTgyODgxLjAuMC4w&feature=d7559513fa3dfbef74bfed01ee3a87f4&floor=2&screenmode=base&search=405#19/40.778435/-73.9641408/-61)  \\n   - ![By the Seashore](https://images.metmuseum.org/CRDImages/ep/original/DP-14936-039.jpg)\\n\\n5. **Olive Trees**  \\n   - **Artist:** Vincent van Gogh  \\n   - **Date:** 1889  \\n   - **Medium:** Oil on canvas  \\n   - **Dimensions:** 28 5/8 x 36 1/4 in. (72.7 x 92.1 cm)  \\n   - **Gallery:** 822  \\n   - **Link:** [View Olive Trees](https://maps.metmuseum.org/poi?_gl=1%2A1958ftb%2A_ga%2AMjk2MzAzMzczLjE3MDE4NzY3NzM.%2A_ga_Y0W8DGNBTB%2AMTcwODk4Mjg3Ny4yNDcuMS4xNzA4OTgyODgxLjAuMC4w&feature=535bd4c09f8f57bd861ddfe3392fbe1b&floor=2&screenmode=base&search=405#19/40.7785682/-73.9641793/-61)  \\n   - ![Olive Trees](https://images.metmuseum.org/CRDImages/ep/original/DT1946.jpg)\\n\\nFeel free to explore these remarkable pieces!'"
      ]
     },
     "execution_count": 36,
     "metadata": {},
     "output_type": "execute_result"
    }
   ],
   "source": [
    "rag(\"I like oil on canvas paintings, I want recommendations of any oil on canvas paintings at the museum\")"
   ]
  },
  {
   "cell_type": "code",
   "execution_count": 42,
   "id": "716f3df5",
   "metadata": {},
   "outputs": [
    {
     "name": "stdout",
     "output_type": "stream",
     "text": [
      "id=436548 version=0 score=4.630063 payload={'artwork_text': \"Majas on a Balcony by Goya (Francisco de Goya y Lucientes). The description of the artwork is: 'The women known as majas visually distinguished themselves through opulent, exaggerated traditional dress that became synonymous with Spanish popular culture. Goya’s innovative composition of majas on a balcony seen from the street—accompanied by somewhat threatening male companions—was one of his most well-known paintings and is today in a private collection. This version may be a variant that Goya used to explore different expressive and stylistic emphases, or it may have been painted by a close follower. Goya’s complex compositional device, in which balcony and picture plane overlap on the brink of public and private spaces, would inspire French painter Edouard Manet in his depictions of urban life in Paris during the late 1860s.'. The source/origin of the artwork is H. O. Havemeyer Collection, Bequest of Mrs. H. O. Havemeye, the Metropolitan Museum of Art acquired the artwork in 1929. The medium for the painting is Oil on canvas, and the dimensions are 76 3/4 x 49 1/2in. (194.9 x 125.7cm). The artwork is presented at gallery 641, located on the map here https://maps.metmuseum.org/poi?_gl=1%2A1ez7ye8%2A_ga%2AMjk2MzAzMzczLjE3MDE4NzY3NzM.%2A_ga_Y0W8DGNBTB%2AMTcwMjk5NTAzNS4zNS4xLjE3MDMwMDEyMjYuMC4wLjA.&feature=038fbaef60068f6301f1e9f45f250b5e&floor=2&screenmode=base&search=403#19/40.7796517/-73.9634886/-61. Goya (Francisco de Goya y Lucientes) is Spanish, their bio is: 'Spanish, Fuendetodos 1746–1828 Bordeaux'. Goya (Francisco de Goya y Lucientes) lived from 1746 to 1828. The painting was started in 1800 and completed in 1810, and is a popular and important artwork in Goya (Francisco de Goya y Lucientes)'s collection, and is currently in the public domain. The following artists are related to Majas on a Balcony : ['Attributed to Goya (Francisco de Goya y Lucientes)']. The following tags are related to Majas on a Balcony : ['Balconies', 'Men', 'Women'].\", 'artwork_image_url': 'https://images.metmuseum.org/CRDImages/ep/original/DP-20750-001.jpg', 'artist_url': 'https://www.wikidata.org/wiki/Q5432', 'artwork_bio_url': 'https://www.metmuseum.org/art/collection/search/436548'} vector=None shard_key=None order_value=None\n",
      "id=436186 version=0 score=4.483279 payload={'artwork_text': \"Still Life with Silver by Alexandre François Desportes. The description of the artwork is: 'If Jean Siméon Chardin explored humble still life, artists like Desportes, who worked for Louis XIV and Louis XV, continued the tradition’s most opulent vein. This painting replicates the ostentatious display of actual dining room buffets of symmetrically arranged objects that attested to their owner’s buying power and global reach. This example includes heavily wrought and gilded silver trays and ewers, Japanese Kakiemon and Imari porcelain bowls, and mounted vessels of jasper and agate. Stylistically, the dates of most of the objects depicted are slightly earlier than the painting, perhaps a function of the fact that by the 1720s the dining rooms of many newly built Parisian residences incorporated not actual buffets but vibrant canvases such as this.'. The source/origin of the artwork is Purchase, Mary Wetmore Shively Bequest, in memory of her husband, Henry L. Shively, M.D, the Metropolitan Museum of Art acquired the artwork in 1964. The medium for the painting is Oil on canvas, and the dimensions are 103 x 73 3/4 in. (261.6 x 187.3 cm). The artwork is presented at gallery 629, located on the map here https://maps.metmuseum.org/poi?_gl=1%2A1ez7ye8%2A_ga%2AMjk2MzAzMzczLjE3MDE4NzY3NzM.%2A_ga_Y0W8DGNBTB%2AMTcwMjk5NTAzNS4zNS4xLjE3MDMwMDEyMjYuMC4wLjA.&feature=ae7f5b71d9af3f7afec993db900351d5&floor=2&screenmode=base&search=403#19/40.7798041/-73.9632401/-61. Alexandre François Desportes is French, their bio is: 'French, Champigneulle 1661–1743 Paris'. Alexandre François Desportes lived from 1661 to 1743. The painting was started in 1720 and completed in 1729, and is a popular and important artwork in Alexandre François Desportes's collection, and is currently in the public domain. The following artists are related to Still Life with Silver : ['Alexandre François Desportes']. The following tags are related to Still Life with Silver : ['Garlands', 'Fruit', 'Flowers', 'Still Life'].\", 'artwork_image_url': 'https://images.metmuseum.org/CRDImages/ep/original/DP283310.jpg', 'artist_url': 'https://www.wikidata.org/wiki/Q1359864', 'artwork_bio_url': 'https://www.metmuseum.org/art/collection/search/436186'} vector=None shard_key=None order_value=None\n",
      "id=692597 version=0 score=4.452081 payload={'artwork_text': \"Saint Francis of Assisi by Antoniazzo Romano (Antonio di Benedetto Aquilio). The description of the artwork is: 'Set against a black background with the signs of the stigmata (Christ’s wounds from the Crucifixion) prominently displayed on his hands and abdomen, Saint Francis appears about to speak. The sound of worship, often evoked this way in devotional painting, could prove powerful in stimulating prayer or song and was a key element of many altarpieces.This single-panel altarpiece, atypical in size and in its isolation of Saint Francis in space, signals Antoniazzo’s interest in taking inspiration from older, venerated paintings. It was made for Clemente Brigante Colonna’s chapel in the church of Santa Maria Maggiore, Tivoli, and reflects his particular devotion to Saint Francis.'. The source/origin of the artwork is Gift of Dinko Podrug, Nena Ilic-Podrug, and Iva Podru, the Metropolitan Museum of Art acquired the artwork in 2017. The medium for the painting is Tempera and gold on wood, transferred to wood, and the dimensions are 63 1/8 × 23 1/2 in. (160.3 × 59.7 cm). The artwork is presented at gallery 609, located on the map here https://maps.metmuseum.org/poi?_gl=1%2A1ez7ye8%2A_ga%2AMjk2MzAzMzczLjE3MDE4NzY3NzM.%2A_ga_Y0W8DGNBTB%2AMTcwMjk5NTAzNS4zNS4xLjE3MDMwMDEyMjYuMC4wLjA.&feature=090f98d90160daa20794136690d4b2c6&floor=2&screenmode=base&search=403#19/40.7791562/-73.9638553/-61. Antoniazzo Romano (Antonio di Benedetto Aquilio) is Italian, their bio is: 'Italian, Rome 1435/40–1508 Rome'. Antoniazzo Romano (Antonio di Benedetto Aquilio) lived from 1435 to 1508. The painting was started in 1480 and completed in 1481, and is a popular and important artwork in Antoniazzo Romano (Antonio di Benedetto Aquilio)'s collection, and is currently in the public domain. The following artists are related to Saint Francis of Assisi : ['Antoniazzo Romano (Antonio di Benedetto Aquilio)']. The following tags are related to Saint Francis of Assisi : ['Men', 'Saint Francis'].\", 'artwork_image_url': 'https://images.metmuseum.org/CRDImages/ep/original/DP-17151-001.jpg', 'artist_url': 'https://www.wikidata.org/wiki/Q598649', 'artwork_bio_url': 'https://www.metmuseum.org/art/collection/search/692597'} vector=None shard_key=None order_value=None\n",
      "id=436430 version=0 score=4.291196 payload={'artwork_text': \"Madonna and Child Enthroned with Saints by Taddeo Gaddi. The description of the artwork is: 'This important altarpiece was most likely painted for the church of Santo Stefano al Ponte, in Florence, by one of Giotto di Bondone’s closest pupils. Originally the figures were shown on individually framed arched panels, as was traditional with Gothic altarpieces. The work would have had pinnacles and a foundational base (predella). A century and a half later the Gothic elements, which by then would have been considered old-fashioned, were removed and the painting was updated in a rectangular frame in the Renaissance style that we see today. The spandrels between the panels were painted in the contemporary style by Davide Ghirlandaio.'. The source/origin of the artwork is Rogers Fun, the Metropolitan Museum of Art acquired the artwork in 1910. The medium for the painting is Tempera on wood, gold ground, and the dimensions are Overall 43 1/4 x 90 1/8 in. (109.9 x 228.9 cm); Lawrence 43 1/4 x 15 1/2 in. (109.9 x 39.4 cm); John 43 1/4 x 13 1/2 in. (109.9 x 34.3 cm); Madonna and Child 43 1/4 x 28 1/2 in. (109.9 x 72.4 cm); James 43 1/4 x 15 3/4 in. (109.9 x 40 cm); Stephen 43 1/4 x 16 3/4 in. (109.9 x 42.5 cm). The artwork is presented at gallery 601, located on the map here https://maps.metmuseum.org/poi?_gl=1%2A1ez7ye8%2A_ga%2AMjk2MzAzMzczLjE3MDE4NzY3NzM.%2A_ga_Y0W8DGNBTB%2AMTcwMjk5NTAzNS4zNS4xLjE3MDMwMDEyMjYuMC4wLjA.&feature=4afd70cecbee34444e081049d98e123c&floor=2&screenmode=base&search=403#19/40.7794561/-73.963493. Taddeo Gaddi is Italian, their bio is: 'Italian, Florentine, active by 1334–died 1366'. Taddeo Gaddi lived from 1334 to 1366. The painting was started in 1335 and completed in 1485, and is a popular and important artwork in Taddeo Gaddi's collection, and is currently in the public domain. The following artists are related to Madonna and Child Enthroned with Saints : ['Taddeo Gaddi']. The following tags are related to Madonna and Child Enthroned with Saints : ['Madonna and Child', 'Saints'].\", 'artwork_image_url': 'https://images.metmuseum.org/CRDImages/ep/original/DP-31527-001.jpg', 'artist_url': 'https://www.wikidata.org/wiki/Q315835', 'artwork_bio_url': 'https://www.metmuseum.org/art/collection/search/436430'} vector=None shard_key=None order_value=None\n",
      "id=834145 version=0 score=0.6148605 payload={'artwork_text': \"Frame by . The description of the artwork is: 'None'. The source/origin of the artwork is Gift of Samuel H. Kress Foundatio, the Metropolitan Museum of Art acquired the artwork in 1962. The medium for the painting is , and the dimensions are Opening: 39 1/4 × 52 1/2 in. (99.7 × 133.4 cm)\\r\\nRabbet: 40 3/8 × 53 1/4 in. (102.6 × 135.3 cm)\\r\\nOverall: 49 1/2 × 62 1/2 in. (125.7 × 158.8 cm). The artwork is presented at gallery 609, located on the map here https://maps.metmuseum.org/poi?_gl=1%2A1ez7ye8%2A_ga%2AMjk2MzAzMzczLjE3MDE4NzY3NzM.%2A_ga_Y0W8DGNBTB%2AMTcwMjk5NTAzNS4zNS4xLjE3MDMwMDEyMjYuMC4wLjA.&feature=090f98d90160daa20794136690d4b2c6&floor=2&screenmode=base&search=403#19/40.7791562/-73.9638553/-61.  is , their bio is: ''.  lived from  to . The painting was started and completed in 0, and is a popular and important artwork in 's collection, and is currently in the public domain. . .\", 'artwork_image_url': '', 'artist_url': '', 'artwork_bio_url': 'https://www.metmuseum.org/art/collection/search/834145'} vector=None shard_key=None order_value=None\n"
     ]
    },
    {
     "data": {
      "text/plain": [
       "'Yes, there are paintings on display today at the Metropolitan Museum of Art. Here are a few:\\n\\n1. **Majas on a Balcony**  \\n   - **Artist:** Francisco de Goya y Lucientes  \\n   - **Date:** Started in 1800 and completed in 1810  \\n   - **Medium:** Oil on canvas  \\n   - **Gallery:** 641  \\n   - **Image:** ![Majas on a Balcony](https://images.metmuseum.org/CRDImages/ep/original/DP-20750-001.jpg)  \\n   - [View on the Met website](https://www.metmuseum.org/art/collection/search/403)\\n\\n2. **Still Life with Silver**  \\n   - **Artist:** Alexandre François Desportes  \\n   - **Date:** Started in 1720 and completed in 1729  \\n   - **Medium:** Oil on canvas  \\n   - **Gallery:** 629  \\n   - **Image:** ![Still Life with Silver](https://images.metmuseum.org/CRDImages/ep/original/DP283310.jpg)  \\n   - [View on the Met website](https://www.metmuseum.org/art/collection/search/403)\\n\\n3. **Saint Francis of Assisi**  \\n   - **Artist:** Antoniazzo Romano (Antonio di Benedetto Aquilio)  \\n   - **Date:** Started in 1480 and completed in 1481  \\n   - **Medium:** Tempera and gold on wood, transferred to wood  \\n   - **Gallery:** 609  \\n   - **Image:** ![Saint Francis of Assisi](https://images.metmuseum.org/CRDImages/ep/original/DP-17151-001.jpg)  \\n   - [View on the Met website](https://www.metmuseum.org/art/collection/search/403)\\n\\n4. **Madonna and Child Enthroned with Saints**  \\n   - **Artist:** Taddeo Gaddi  \\n   - **Date:** Started in 1335 and completed in 1485  \\n   - **Medium:** Tempera on wood, gold ground  \\n   - **Gallery:** 601  \\n   - **Image:** ![Madonna and Child Enthroned with Saints](https://images.metmuseum.org/CRDImages/ep/original/DP-31527-001.jpg)  \\n   - [View on the Met website](https://www.metmuseum.org/art/collection/search/403)\\n\\nIf you need more details or have further questions, feel free to ask!'"
      ]
     },
     "metadata": {},
     "output_type": "display_data"
    }
   ],
   "source": [
    "display(rag(\"Are there any paintings on display today? If so, in which galleries?\"))"
   ]
  },
  {
   "cell_type": "code",
   "execution_count": null,
   "id": "2105c5cf",
   "metadata": {},
   "outputs": [],
   "source": []
  }
 ],
 "metadata": {
  "kernelspec": {
   "display_name": "venv",
   "language": "python",
   "name": "python3"
  },
  "language_info": {
   "codemirror_mode": {
    "name": "ipython",
    "version": 3
   },
   "file_extension": ".py",
   "mimetype": "text/x-python",
   "name": "python",
   "nbconvert_exporter": "python",
   "pygments_lexer": "ipython3",
   "version": "3.12.1"
  }
 },
 "nbformat": 4,
 "nbformat_minor": 5
}
