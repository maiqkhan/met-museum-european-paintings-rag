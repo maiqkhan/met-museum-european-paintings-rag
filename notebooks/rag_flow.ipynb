{
 "cells": [
  {
   "cell_type": "code",
   "execution_count": 14,
   "id": "2e668e33",
   "metadata": {},
   "outputs": [
    {
     "data": {
      "text/plain": [
       "True"
      ]
     },
     "execution_count": 14,
     "metadata": {},
     "output_type": "execute_result"
    }
   ],
   "source": [
    "from dotenv import load_dotenv\n",
    "\n",
    "load_dotenv()"
   ]
  },
  {
   "cell_type": "code",
   "execution_count": 1,
   "id": "3894c6c1",
   "metadata": {},
   "outputs": [
    {
     "data": {
      "text/plain": [
       "CollectionsResponse(collections=[CollectionDescription(name='met-museum-euro-artworks')])"
      ]
     },
     "execution_count": 1,
     "metadata": {},
     "output_type": "execute_result"
    }
   ],
   "source": [
    "from qdrant_client import QdrantClient\n",
    "\n",
    "client = QdrantClient(\"http://localhost:6333\")\n",
    "client.get_collections()"
   ]
  },
  {
   "cell_type": "code",
   "execution_count": 32,
   "id": "09e59d12",
   "metadata": {},
   "outputs": [],
   "source": [
    "from qdrant_client import models\n",
    "\n",
    "def multi_stage_search(query: str, limit: int = 5) -> list[models.ScoredPoint]:\n",
    "    results = client.query_points(\n",
    "        collection_name=\"met-museum-euro-artworks\",\n",
    "        prefetch=[\n",
    "            models.Prefetch(\n",
    "                query=models.Document(\n",
    "                    text=query,\n",
    "                    model=\"jinaai/jina-embeddings-v2-small-en\",\n",
    "                ),\n",
    "                using=\"jina-small\",\n",
    "                # Prefetch ten times more results, then\n",
    "                # expected to return, so we can really rerank\n",
    "                limit=(10 * limit),\n",
    "            ),\n",
    "        ],\n",
    "        query=models.Document(\n",
    "            text=query,\n",
    "            model=\"Qdrant/bm25\", \n",
    "        ),\n",
    "        using=\"bm25\",\n",
    "        limit=limit,\n",
    "        with_payload=True,\n",
    "    )\n",
    "\n",
    "    return results.points"
   ]
  },
  {
   "cell_type": "code",
   "execution_count": 41,
   "id": "0f1b8f48",
   "metadata": {},
   "outputs": [],
   "source": [
    "def build_prompt(query, search_results):\n",
    "    \n",
    "    context = \"\"\n",
    "\n",
    "    for doc in search_results:\n",
    "        print(doc)\n",
    "        context = context + f\"artwork_description: {doc.payload['artwork_text']}\\nimage_url: {doc.payload['artwork_image_url']}\\n\\n\"\n",
    "\n",
    "    prompt = f\"\"\"\n",
    "        You are an AI assistant that answers user questions about artworks in the European Paintings collection at the Metropolitan Museum of Art. \n",
    "        You will be given context information from the museum's knowledge base. Use ONLY this context to answer the user's question. \n",
    "        If the answer cannot be found in the context, say \"I could not find that information in the collection. Could you elaborate further on your question?\" and then explain what is confusing you about the question. \n",
    "        Do not hallucinate or make up facts.\n",
    "\n",
    "        Context:\n",
    "        {context}\n",
    "\n",
    "        User Question:\n",
    "        {query}\n",
    "\n",
    "        Instructions:\n",
    "        - Answer in clear, concise, and user-friendly language. \n",
    "        - If available, include the title, artist, date, medium, and link to the official museum page. \n",
    "        - If images are provided in the context, return their URLs so they can be displayed. \n",
    "        - Keep the response factual and grounded in the provided context.\n",
    "\n",
    "\"\"\".strip()\n",
    "    \n",
    "    return prompt\n",
    "\n",
    "    "
   ]
  },
  {
   "cell_type": "code",
   "execution_count": 34,
   "id": "f42ada04",
   "metadata": {},
   "outputs": [],
   "source": [
    "from openai import OpenAI\n",
    "\n",
    "openai_client = OpenAI()\n",
    "def llm(prompt):\n",
    "    response = openai_client.chat.completions.create(\n",
    "        model='gpt-4o-mini',\n",
    "        messages=[{\"role\": \"user\", \"content\": prompt}]\n",
    "    )\n",
    "    \n",
    "    return response.choices[0].message.content"
   ]
  },
  {
   "cell_type": "code",
   "execution_count": 35,
   "id": "19846b71",
   "metadata": {},
   "outputs": [],
   "source": [
    "def rag(query):\n",
    "    search_results = multi_stage_search(query)\n",
    "    prompt = build_prompt(query, search_results)\n",
    "    answer = llm(prompt)\n",
    "    return answer"
   ]
  },
  {
   "cell_type": "code",
   "execution_count": 18,
   "id": "3c9836a4",
   "metadata": {},
   "outputs": [
    {
     "data": {
      "text/plain": [
       "'Yes, there is a painting related to Jerusalem in the collection of the Metropolitan Museum of Art. It is titled \"The Sack of Jerusalem by the Romans\" by François Joseph Heim. \\n\\nHere are the details:\\n\\n- **Title:** The Sack of Jerusalem by the Romans\\n- **Artist:** François Joseph Heim\\n- **Date:** 1824\\n- **Medium:** Oil on canvas\\n- **Dimensions:** 14 x 15 in. (35.6 x 38.1 cm)\\n- **Acquisition:** Catharine Lorillard Wolfe Collection, acquired in 2002\\n\\nCurrently, the painting is not showcased at the museum, but it is a significant artwork by Heim and is in the public domain.\\n\\nFor more information, you can visit the [official museum page](https://images.metmuseum.org/CRDImages/ep/original/DP-17607-001.jpg).\\n\\n![The Sack of Jerusalem by the Romans](https://images.metmuseum.org/CRDImages/ep/original/DP-17607-001.jpg)'"
      ]
     },
     "execution_count": 18,
     "metadata": {},
     "output_type": "execute_result"
    }
   ],
   "source": [
    "rag(\"Is there any paintings in the museum about Jerusalem?\")"
   ]
  },
  {
   "cell_type": "code",
   "execution_count": 36,
   "id": "1969a846",
   "metadata": {},
   "outputs": [
    {
     "data": {
      "text/plain": [
       "'Here are some oil on canvas paintings from the European Paintings collection at the Metropolitan Museum of Art:\\n\\n1. **La Grenouillère**  \\n   - **Artist:** Claude Monet  \\n   - **Date:** 1869  \\n   - **Medium:** Oil on canvas  \\n   - **Dimensions:** 29 3/8 x 39 1/4 in. (74.6 x 99.7 cm)  \\n   - **Gallery:** 818  \\n   - **Link:** [View La Grenouillère](https://maps.metmuseum.org/poi?_gl=1%2A1958ftb%2A_ga%2AMjk2MzAzMzczLjE3MDE4NzY3NzM.%2A_ga_Y0W8DGNBTB%2AMTcwODk4Mjg3Ny4yNDcuMS4xNzA4OTgyODgxLjAuMC4w&feature=f9f32fed0cb763c71a4c6bba3ad34ad3&floor=2&screenmode=base&search=405#19/40.7786001/-73.9640204/-61)  \\n   - ![La Grenouillère](https://images.metmuseum.org/CRDImages/ep/original/DT1999.jpg)\\n\\n2. **Edmond Cavé (1794–1852)**  \\n   - **Artist:** Jean Auguste Dominique Ingres  \\n   - **Date:** 1844  \\n   - **Medium:** Oil on canvas  \\n   - **Dimensions:** 16 x 12 7/8 in. (40.6 x 32.7 cm)  \\n   - **Gallery:** 801  \\n   - **Link:** [View Edmond Cavé](https://maps.metmuseum.org/?feature=LTczLjk2MzczNDQ4LDQwLjc3ODQ3MDc4QGxtQDcxMTQ4MjQ3OTM0Mw==)  \\n   - ![Edmond Cavé](https://images.metmuseum.org/CRDImages/ep/original/DT1996.jpg)\\n\\n3. **Curiosity**  \\n   - **Artist:** Gerard ter Borch the Younger  \\n   - **Date:** 1660-1662  \\n   - **Medium:** Oil on canvas  \\n   - **Dimensions:** 30 x 24 1/2 in. (76.2 x 62.2 cm)  \\n   - **Gallery:** 614  \\n   - **Link:** [View Curiosity](https://maps.metmuseum.org/poi?_gl=1%2A1ez7ye8%2A_ga%2AMjk2MzAzMzczLjE3MDE4NzY3NzM.%2A_ga_Y0W8DGNBTB%2AMTcwMjk5NTAzNS4zNS4xLjE3MDMwMDEyMjYuMC4wLjA.&feature=f3b2cea65c0aa1a82d2b315866720ce5&floor=2&screenmode=base&search=403#19/40.7793111/-73.9643025/-61)  \\n   - ![Curiosity](https://images.metmuseum.org/CRDImages/ep/original/DP145405.jpg)\\n\\n4. **By the Seashore**  \\n   - **Artist:** Auguste Renoir  \\n   - **Date:** 1883  \\n   - **Medium:** Oil on canvas  \\n   - **Dimensions:** 36 1/4 x 28 1/2 in. (92.1 x 72.4 cm)  \\n   - **Gallery:** 824  \\n   - **Link:** [View By the Seashore](https://maps.metmuseum.org/poi?_gl=1%2A1958ftb%2A_ga%2AMjk2MzAzMzczLjE3MDE4NzY3NzM.%2A_ga_Y0W8DGNBTB%2AMTcwODk4Mjg3Ny4yNDcuMS4xNzA4OTgyODgxLjAuMC4w&feature=d7559513fa3dfbef74bfed01ee3a87f4&floor=2&screenmode=base&search=405#19/40.778435/-73.9641408/-61)  \\n   - ![By the Seashore](https://images.metmuseum.org/CRDImages/ep/original/DP-14936-039.jpg)\\n\\n5. **Olive Trees**  \\n   - **Artist:** Vincent van Gogh  \\n   - **Date:** 1889  \\n   - **Medium:** Oil on canvas  \\n   - **Dimensions:** 28 5/8 x 36 1/4 in. (72.7 x 92.1 cm)  \\n   - **Gallery:** 822  \\n   - **Link:** [View Olive Trees](https://maps.metmuseum.org/poi?_gl=1%2A1958ftb%2A_ga%2AMjk2MzAzMzczLjE3MDE4NzY3NzM.%2A_ga_Y0W8DGNBTB%2AMTcwODk4Mjg3Ny4yNDcuMS4xNzA4OTgyODgxLjAuMC4w&feature=535bd4c09f8f57bd861ddfe3392fbe1b&floor=2&screenmode=base&search=405#19/40.7785682/-73.9641793/-61)  \\n   - ![Olive Trees](https://images.metmuseum.org/CRDImages/ep/original/DT1946.jpg)\\n\\nFeel free to explore these remarkable pieces!'"
      ]
     },
     "execution_count": 36,
     "metadata": {},
     "output_type": "execute_result"
    }
   ],
   "source": [
    "rag(\"I like oil on canvas paintings, I want recommendations of any oil on canvas paintings at the museum\")"
   ]
  },
  {
   "cell_type": "code",
   "execution_count": 42,
   "id": "716f3df5",
   "metadata": {},
   "outputs": [
    {
     "name": "stdout",
     "output_type": "stream",
     "text": [
      "id=436548 version=0 score=4.630063 payload={'artwork_text': \"Majas on a Balcony by Goya (Francisco de Goya y Lucientes). The description of the artwork is: 'The women known as majas visually distinguished themselves through opulent, exaggerated traditional dress that became synonymous with Spanish popular culture. Goya’s innovative composition of majas on a balcony seen from the street—accompanied by somewhat threatening male companions—was one of his most well-known paintings and is today in a private collection. This version may be a variant that Goya used to explore different expressive and stylistic emphases, or it may have been painted by a close follower. Goya’s complex compositional device, in which balcony and picture plane overlap on the brink of public and private spaces, would inspire French painter Edouard Manet in his depictions of urban life in Paris during the late 1860s.'. The source/origin of the artwork is H. O. Havemeyer Collection, Bequest of Mrs. H. O. Havemeye, the Metropolitan Museum of Art acquired the artwork in 1929. The medium for the painting is Oil on canvas, and the dimensions are 76 3/4 x 49 1/2in. (194.9 x 125.7cm). The artwork is presented at gallery 641, located on the map here https://maps.metmuseum.org/poi?_gl=1%2A1ez7ye8%2A_ga%2AMjk2MzAzMzczLjE3MDE4NzY3NzM.%2A_ga_Y0W8DGNBTB%2AMTcwMjk5NTAzNS4zNS4xLjE3MDMwMDEyMjYuMC4wLjA.&feature=038fbaef60068f6301f1e9f45f250b5e&floor=2&screenmode=base&search=403#19/40.7796517/-73.9634886/-61. Goya (Francisco de Goya y Lucientes) is Spanish, their bio is: 'Spanish, Fuendetodos 1746–1828 Bordeaux'. Goya (Francisco de Goya y Lucientes) lived from 1746 to 1828. The painting was started in 1800 and completed in 1810, and is a popular and important artwork in Goya (Francisco de Goya y Lucientes)'s collection, and is currently in the public domain. The following artists are related to Majas on a Balcony : ['Attributed to Goya (Francisco de Goya y Lucientes)']. The following tags are related to Majas on a Balcony : ['Balconies', 'Men', 'Women'].\", 'artwork_image_url': 'https://images.metmuseum.org/CRDImages/ep/original/DP-20750-001.jpg', 'artist_url': 'https://www.wikidata.org/wiki/Q5432', 'artwork_bio_url': 'https://www.metmuseum.org/art/collection/search/436548'} vector=None shard_key=None order_value=None\n",
      "id=436186 version=0 score=4.483279 payload={'artwork_text': \"Still Life with Silver by Alexandre François Desportes. The description of the artwork is: 'If Jean Siméon Chardin explored humble still life, artists like Desportes, who worked for Louis XIV and Louis XV, continued the tradition’s most opulent vein. This painting replicates the ostentatious display of actual dining room buffets of symmetrically arranged objects that attested to their owner’s buying power and global reach. This example includes heavily wrought and gilded silver trays and ewers, Japanese Kakiemon and Imari porcelain bowls, and mounted vessels of jasper and agate. Stylistically, the dates of most of the objects depicted are slightly earlier than the painting, perhaps a function of the fact that by the 1720s the dining rooms of many newly built Parisian residences incorporated not actual buffets but vibrant canvases such as this.'. The source/origin of the artwork is Purchase, Mary Wetmore Shively Bequest, in memory of her husband, Henry L. Shively, M.D, the Metropolitan Museum of Art acquired the artwork in 1964. The medium for the painting is Oil on canvas, and the dimensions are 103 x 73 3/4 in. (261.6 x 187.3 cm). The artwork is presented at gallery 629, located on the map here https://maps.metmuseum.org/poi?_gl=1%2A1ez7ye8%2A_ga%2AMjk2MzAzMzczLjE3MDE4NzY3NzM.%2A_ga_Y0W8DGNBTB%2AMTcwMjk5NTAzNS4zNS4xLjE3MDMwMDEyMjYuMC4wLjA.&feature=ae7f5b71d9af3f7afec993db900351d5&floor=2&screenmode=base&search=403#19/40.7798041/-73.9632401/-61. Alexandre François Desportes is French, their bio is: 'French, Champigneulle 1661–1743 Paris'. Alexandre François Desportes lived from 1661 to 1743. The painting was started in 1720 and completed in 1729, and is a popular and important artwork in Alexandre François Desportes's collection, and is currently in the public domain. The following artists are related to Still Life with Silver : ['Alexandre François Desportes']. The following tags are related to Still Life with Silver : ['Garlands', 'Fruit', 'Flowers', 'Still Life'].\", 'artwork_image_url': 'https://images.metmuseum.org/CRDImages/ep/original/DP283310.jpg', 'artist_url': 'https://www.wikidata.org/wiki/Q1359864', 'artwork_bio_url': 'https://www.metmuseum.org/art/collection/search/436186'} vector=None shard_key=None order_value=None\n",
      "id=692597 version=0 score=4.452081 payload={'artwork_text': \"Saint Francis of Assisi by Antoniazzo Romano (Antonio di Benedetto Aquilio). The description of the artwork is: 'Set against a black background with the signs of the stigmata (Christ’s wounds from the Crucifixion) prominently displayed on his hands and abdomen, Saint Francis appears about to speak. The sound of worship, often evoked this way in devotional painting, could prove powerful in stimulating prayer or song and was a key element of many altarpieces.This single-panel altarpiece, atypical in size and in its isolation of Saint Francis in space, signals Antoniazzo’s interest in taking inspiration from older, venerated paintings. It was made for Clemente Brigante Colonna’s chapel in the church of Santa Maria Maggiore, Tivoli, and reflects his particular devotion to Saint Francis.'. The source/origin of the artwork is Gift of Dinko Podrug, Nena Ilic-Podrug, and Iva Podru, the Metropolitan Museum of Art acquired the artwork in 2017. The medium for the painting is Tempera and gold on wood, transferred to wood, and the dimensions are 63 1/8 × 23 1/2 in. (160.3 × 59.7 cm). The artwork is presented at gallery 609, located on the map here https://maps.metmuseum.org/poi?_gl=1%2A1ez7ye8%2A_ga%2AMjk2MzAzMzczLjE3MDE4NzY3NzM.%2A_ga_Y0W8DGNBTB%2AMTcwMjk5NTAzNS4zNS4xLjE3MDMwMDEyMjYuMC4wLjA.&feature=090f98d90160daa20794136690d4b2c6&floor=2&screenmode=base&search=403#19/40.7791562/-73.9638553/-61. Antoniazzo Romano (Antonio di Benedetto Aquilio) is Italian, their bio is: 'Italian, Rome 1435/40–1508 Rome'. Antoniazzo Romano (Antonio di Benedetto Aquilio) lived from 1435 to 1508. The painting was started in 1480 and completed in 1481, and is a popular and important artwork in Antoniazzo Romano (Antonio di Benedetto Aquilio)'s collection, and is currently in the public domain. The following artists are related to Saint Francis of Assisi : ['Antoniazzo Romano (Antonio di Benedetto Aquilio)']. The following tags are related to Saint Francis of Assisi : ['Men', 'Saint Francis'].\", 'artwork_image_url': 'https://images.metmuseum.org/CRDImages/ep/original/DP-17151-001.jpg', 'artist_url': 'https://www.wikidata.org/wiki/Q598649', 'artwork_bio_url': 'https://www.metmuseum.org/art/collection/search/692597'} vector=None shard_key=None order_value=None\n",
      "id=436430 version=0 score=4.291196 payload={'artwork_text': \"Madonna and Child Enthroned with Saints by Taddeo Gaddi. The description of the artwork is: 'This important altarpiece was most likely painted for the church of Santo Stefano al Ponte, in Florence, by one of Giotto di Bondone’s closest pupils. Originally the figures were shown on individually framed arched panels, as was traditional with Gothic altarpieces. The work would have had pinnacles and a foundational base (predella). A century and a half later the Gothic elements, which by then would have been considered old-fashioned, were removed and the painting was updated in a rectangular frame in the Renaissance style that we see today. The spandrels between the panels were painted in the contemporary style by Davide Ghirlandaio.'. The source/origin of the artwork is Rogers Fun, the Metropolitan Museum of Art acquired the artwork in 1910. The medium for the painting is Tempera on wood, gold ground, and the dimensions are Overall 43 1/4 x 90 1/8 in. (109.9 x 228.9 cm); Lawrence 43 1/4 x 15 1/2 in. (109.9 x 39.4 cm); John 43 1/4 x 13 1/2 in. (109.9 x 34.3 cm); Madonna and Child 43 1/4 x 28 1/2 in. (109.9 x 72.4 cm); James 43 1/4 x 15 3/4 in. (109.9 x 40 cm); Stephen 43 1/4 x 16 3/4 in. (109.9 x 42.5 cm). The artwork is presented at gallery 601, located on the map here https://maps.metmuseum.org/poi?_gl=1%2A1ez7ye8%2A_ga%2AMjk2MzAzMzczLjE3MDE4NzY3NzM.%2A_ga_Y0W8DGNBTB%2AMTcwMjk5NTAzNS4zNS4xLjE3MDMwMDEyMjYuMC4wLjA.&feature=4afd70cecbee34444e081049d98e123c&floor=2&screenmode=base&search=403#19/40.7794561/-73.963493. Taddeo Gaddi is Italian, their bio is: 'Italian, Florentine, active by 1334–died 1366'. Taddeo Gaddi lived from 1334 to 1366. The painting was started in 1335 and completed in 1485, and is a popular and important artwork in Taddeo Gaddi's collection, and is currently in the public domain. The following artists are related to Madonna and Child Enthroned with Saints : ['Taddeo Gaddi']. The following tags are related to Madonna and Child Enthroned with Saints : ['Madonna and Child', 'Saints'].\", 'artwork_image_url': 'https://images.metmuseum.org/CRDImages/ep/original/DP-31527-001.jpg', 'artist_url': 'https://www.wikidata.org/wiki/Q315835', 'artwork_bio_url': 'https://www.metmuseum.org/art/collection/search/436430'} vector=None shard_key=None order_value=None\n",
      "id=834145 version=0 score=0.6148605 payload={'artwork_text': \"Frame by . The description of the artwork is: 'None'. The source/origin of the artwork is Gift of Samuel H. Kress Foundatio, the Metropolitan Museum of Art acquired the artwork in 1962. The medium for the painting is , and the dimensions are Opening: 39 1/4 × 52 1/2 in. (99.7 × 133.4 cm)\\r\\nRabbet: 40 3/8 × 53 1/4 in. (102.6 × 135.3 cm)\\r\\nOverall: 49 1/2 × 62 1/2 in. (125.7 × 158.8 cm). The artwork is presented at gallery 609, located on the map here https://maps.metmuseum.org/poi?_gl=1%2A1ez7ye8%2A_ga%2AMjk2MzAzMzczLjE3MDE4NzY3NzM.%2A_ga_Y0W8DGNBTB%2AMTcwMjk5NTAzNS4zNS4xLjE3MDMwMDEyMjYuMC4wLjA.&feature=090f98d90160daa20794136690d4b2c6&floor=2&screenmode=base&search=403#19/40.7791562/-73.9638553/-61.  is , their bio is: ''.  lived from  to . The painting was started and completed in 0, and is a popular and important artwork in 's collection, and is currently in the public domain. . .\", 'artwork_image_url': '', 'artist_url': '', 'artwork_bio_url': 'https://www.metmuseum.org/art/collection/search/834145'} vector=None shard_key=None order_value=None\n"
     ]
    },
    {
     "data": {
      "text/plain": [
       "'Yes, there are paintings on display today at the Metropolitan Museum of Art. Here are a few:\\n\\n1. **Majas on a Balcony**  \\n   - **Artist:** Francisco de Goya y Lucientes  \\n   - **Date:** Started in 1800 and completed in 1810  \\n   - **Medium:** Oil on canvas  \\n   - **Gallery:** 641  \\n   - **Image:** ![Majas on a Balcony](https://images.metmuseum.org/CRDImages/ep/original/DP-20750-001.jpg)  \\n   - [View on the Met website](https://www.metmuseum.org/art/collection/search/403)\\n\\n2. **Still Life with Silver**  \\n   - **Artist:** Alexandre François Desportes  \\n   - **Date:** Started in 1720 and completed in 1729  \\n   - **Medium:** Oil on canvas  \\n   - **Gallery:** 629  \\n   - **Image:** ![Still Life with Silver](https://images.metmuseum.org/CRDImages/ep/original/DP283310.jpg)  \\n   - [View on the Met website](https://www.metmuseum.org/art/collection/search/403)\\n\\n3. **Saint Francis of Assisi**  \\n   - **Artist:** Antoniazzo Romano (Antonio di Benedetto Aquilio)  \\n   - **Date:** Started in 1480 and completed in 1481  \\n   - **Medium:** Tempera and gold on wood, transferred to wood  \\n   - **Gallery:** 609  \\n   - **Image:** ![Saint Francis of Assisi](https://images.metmuseum.org/CRDImages/ep/original/DP-17151-001.jpg)  \\n   - [View on the Met website](https://www.metmuseum.org/art/collection/search/403)\\n\\n4. **Madonna and Child Enthroned with Saints**  \\n   - **Artist:** Taddeo Gaddi  \\n   - **Date:** Started in 1335 and completed in 1485  \\n   - **Medium:** Tempera on wood, gold ground  \\n   - **Gallery:** 601  \\n   - **Image:** ![Madonna and Child Enthroned with Saints](https://images.metmuseum.org/CRDImages/ep/original/DP-31527-001.jpg)  \\n   - [View on the Met website](https://www.metmuseum.org/art/collection/search/403)\\n\\nIf you need more details or have further questions, feel free to ask!'"
      ]
     },
     "metadata": {},
     "output_type": "display_data"
    }
   ],
   "source": [
    "display(rag(\"Are there any paintings on display today? If so, in which galleries?\"))"
   ]
  },
  {
   "cell_type": "code",
   "execution_count": null,
   "id": "2105c5cf",
   "metadata": {},
   "outputs": [],
   "source": []
  }
 ],
 "metadata": {
  "kernelspec": {
   "display_name": "venv",
   "language": "python",
   "name": "python3"
  },
  "language_info": {
   "codemirror_mode": {
    "name": "ipython",
    "version": 3
   },
   "file_extension": ".py",
   "mimetype": "text/x-python",
   "name": "python",
   "nbconvert_exporter": "python",
   "pygments_lexer": "ipython3",
   "version": "3.12.1"
  }
 },
 "nbformat": 4,
 "nbformat_minor": 5
}
