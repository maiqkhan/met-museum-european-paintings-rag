{
 "cells": [
  {
   "cell_type": "markdown",
   "id": "b7056eab",
   "metadata": {},
   "source": [
    "### Retrieval Evaluation Metrics"
   ]
  },
  {
   "cell_type": "markdown",
   "id": "ccfd9397",
   "metadata": {},
   "source": [
    "#### Generate Gold Truth datasets"
   ]
  },
  {
   "cell_type": "code",
   "execution_count": 34,
   "id": "1314bcce",
   "metadata": {},
   "outputs": [],
   "source": [
    "from typing import List\n",
    "import json, random\n",
    "from pydantic import BaseModel\n"
   ]
  },
  {
   "cell_type": "code",
   "execution_count": 2,
   "id": "5cf100c9",
   "metadata": {},
   "outputs": [
    {
     "data": {
      "text/plain": [
       "True"
      ]
     },
     "execution_count": 2,
     "metadata": {},
     "output_type": "execute_result"
    }
   ],
   "source": [
    "from dotenv import load_dotenv\n",
    "\n",
    "load_dotenv()"
   ]
  },
  {
   "cell_type": "code",
   "execution_count": 3,
   "id": "4bd6a67a",
   "metadata": {},
   "outputs": [],
   "source": [
    "from openai import OpenAI\n",
    "\n",
    "openai_client = OpenAI()"
   ]
  },
  {
   "cell_type": "code",
   "execution_count": 5,
   "id": "0d16d4cf",
   "metadata": {},
   "outputs": [],
   "source": [
    "from qdrant_client import QdrantClient\n",
    "\n",
    "client = QdrantClient(\"http://localhost:6333\")\n",
    "collection_name = \"met-museum-euro-artworks\""
   ]
  },
  {
   "cell_type": "code",
   "execution_count": 6,
   "id": "3c4776d5",
   "metadata": {},
   "outputs": [],
   "source": [
    "def get_all_points() -> List:\n",
    "    \"\"\"\n",
    "    Retrieve all points at once. Only use for small collections (<10k points).\n",
    "    \n",
    "    Returns:\n",
    "        List of all point records\n",
    "    \"\"\"\n",
    "    all_points = []\n",
    "    offset = None\n",
    "    \n",
    "    while True:\n",
    "        records, next_offset = client.scroll(\n",
    "            collection_name=collection_name,\n",
    "            #limit=10,\n",
    "            offset=offset,\n",
    "            with_payload=True,\n",
    "            with_vectors=False\n",
    "        )\n",
    "\n",
    "        all_points.extend(records)\n",
    "        \n",
    "        if next_offset is None:\n",
    "            break\n",
    "        \n",
    "        offset = next_offset    \n",
    "    return all_points"
   ]
  },
  {
   "cell_type": "code",
   "execution_count": 7,
   "id": "1639a286",
   "metadata": {},
   "outputs": [],
   "source": [
    "painting_objects = get_all_points()"
   ]
  },
  {
   "cell_type": "code",
   "execution_count": 9,
   "id": "311c200c",
   "metadata": {},
   "outputs": [],
   "source": [
    "painting_description_lst = []\n",
    "\n",
    "for painting_obj in painting_objects:\n",
    "    painting_description_lst.append({\"id\": painting_obj.id , \"artwork_text\": painting_obj.payload['artwork_text']}) "
   ]
  },
  {
   "cell_type": "code",
   "execution_count": 46,
   "id": "2b455130",
   "metadata": {},
   "outputs": [],
   "source": [
    "def validate_queries(queries: List[str], title_and_artist: str, description: str) -> List[str]:\n",
    "    valid_queries = []\n",
    "\n",
    "    for q in queries:\n",
    "        # tests for valid queries\n",
    "        if len(q.split()) < 5:\n",
    "            continue\n",
    "\n",
    "        if title_and_artist.lower() in q.lower():\n",
    "            continue\n",
    "\n",
    "        # simple query overlap\n",
    "        desc_words = set(description.lower().split())\n",
    "        query_words = set(q.lower().split())\n",
    "\n",
    "        overlap = len(desc_words & query_words) / len(query_words)\n",
    "        if overlap > 0.7:\n",
    "            continue\n",
    "\n",
    "        valid_queries.append(q)\n",
    "\n",
    "    return valid_queries\n",
    "\n"
   ]
  },
  {
   "cell_type": "code",
   "execution_count": 47,
   "id": "cb5c45a6",
   "metadata": {},
   "outputs": [],
   "source": [
    "class QueryResponse(BaseModel):\n",
    "    queries: List[str]\n",
    "\n",
    "def generate_ground_truth_questions(num_queries: str, artwork_text: str) -> List[str]:\n",
    "    title_artist = artwork_text.split('. The description of the artwork is: ')[0]\n",
    "    painting_description = artwork_text.split('. The description of the artwork is: ')[1]\n",
    "    \n",
    "    prompt = f\"\"\"You are an expert in creating RAG evaluation datasets for museum chatbots. Your task is to generate EXACTLY {num_queries} realistic, diverse user queries that should retrieve information about this specific painting.\n",
    "\n",
    "\n",
    "        Given this painting information:\n",
    "        Title and Artist: {title_artist if title_artist else \"Not provided\"}\n",
    "        Description: {painting_description}\n",
    "\n",
    "        CONTEXT: These queries will be used to evaluate a RAG system for a Met Museum chatbot. Visitors use this chatbot to discover paintings they want to see. Your queries must reflect REAL visitor behavior and needs.\n",
    "        \n",
    "        GENERATE {num_queries} QUERIES WITH THE FOLLOWING DISTRIBUTION:\n",
    "\n",
    "        1. SPECIFIC ARTWORK QUERIES (20%): Direct questions about this painting using 2-3 specific visual elements from the description\n",
    "        - Use partial information (no exact title/artist)\n",
    "        - Example: \"painting with water lilies and Japanese bridge\"\n",
    "        - Difficulty: Easy-Medium\n",
    "\n",
    "        2. THEMATIC QUERIES (25%): Broader themes that should include this painting\n",
    "        - Focus on subject matter, symbolism, or narrative that are present in the painting's description\n",
    "        - Example: \"paintings depicting mythology from ancient Greece\"\n",
    "        - Difficulty: Medium\n",
    "\n",
    "        3. COMPARATIVE QUERIES (20%): Reference similar works, movements, or styles\n",
    "        - Require understanding of art history context\n",
    "        - Example: \"works similar to Caravaggio's dramatic lighting style\"\n",
    "        - Difficulty: Medium-Hard\n",
    "\n",
    "        4. NAVIGATIONAL QUERIES (20%): Gallery/collection-based questions\n",
    "        - Time period, culture, medium, or department-specific\n",
    "        - Example: \"what Impressionist landscapes can I see here?\"\n",
    "        - Difficulty: Easy-Medium\n",
    "\n",
    "        5. EXPLORATORY QUERIES (15%): Open-ended discovery questions\n",
    "        - Mood, color palette, artistic techniques\n",
    "        - Example: \"paintings that feel peaceful and contemplative\"\n",
    "        - Difficulty: Medium-Hard\n",
    "\n",
    "        CRITICAL REQUIREMENTS:\n",
    "\n",
    "        A. DIFFICULTY CALIBRATION:\n",
    "        - Easy: Direct visual elements, clear subjects (30% of queries)\n",
    "        - Medium: Requires semantic understanding or context (50% of queries)\n",
    "        - Hard: Abstract concepts, multi-hop reasoning, or ambiguous phrasing (20% of queries)\n",
    "\n",
    "        B. LINGUISTIC DIVERSITY:\n",
    "        - Vary formality: questions vs. statements vs. keywords\n",
    "        - Mix specificity: vague → precise\n",
    "        - Different query lengths: 5-25 words\n",
    "        - Include natural language variations (\"show me\", \"looking for\", \"are there any\")\n",
    "\n",
    "        C. EDGE CASES TO INCLUDE (at least 2):\n",
    "        - Misspellings or informal terms\n",
    "        - Temporally ambiguous (\"Renaissance\" vs \"1500s\")\n",
    "        - Culturally ambiguous (\"Asian art\" when more specific available)\n",
    "        - Under-specified queries that need disambiguation\n",
    "        - Partial/incomplete descriptions ('that pinting with the blue..')\n",
    "\n",
    "        D. REALISM PRINCIPLES:\n",
    "        - Use vocabulary real visitors use (not art historian jargon unless for Hard queries)\n",
    "        - Include implicit intent (\"I want to see...\" vs \"retrieve documents about...\")\n",
    "        - Add conversational markers occasionally (\"I'm interested in...\", \"Can you help me find...\")\n",
    "        - NO exact title or artist name unless it's a common search pattern\n",
    "\n",
    "        AVOID:\n",
    "        - Generic queries that would retrieve 100+ paintings (\"famous paintings\")\n",
    "        - Queries that mention the exact title\n",
    "        - Queries that only an art expert would ask\n",
    "        - Repetitive phrasings\n",
    "        - Overly SEO-like keyword stuffing\n",
    "\n",
    "        Return ONLY a parsable JSON without using code blocks. Format:\n",
    "        [\"query 1\", \"query 2\", ... \"query {num_queries}\"]\n",
    "\"\"\".strip()\n",
    "    \n",
    "    \n",
    "    \n",
    "    # response = openai_client.chat.completions.create(\n",
    "    #     model='gpt-4o',\n",
    "    #     messages=[ {\"role\": \"user\", \"content\": prompt}],\n",
    "    #     temperature=0.8,\n",
    "    #     max_tokens=500,\n",
    "    #     response_format={\"type\": \"json_object\"}\n",
    "    # )\n",
    "\n",
    "    response = openai_client.chat.completions.parse(\n",
    "        model='gpt-4o',\n",
    "        messages=[ {\"role\": \"user\", \"content\": prompt}],\n",
    "        temperature=0.8,\n",
    "        response_format=QueryResponse\n",
    "\n",
    "    )\n",
    "    \n",
    "    queries = json.loads(response.choices[0].message.content)\n",
    "    valid_queries = validate_queries(queries = queries['queries'], title_and_artist=title_artist, description=painting_description)\n",
    "\n",
    "    return valid_queries\n"
   ]
  },
  {
   "cell_type": "code",
   "execution_count": 48,
   "id": "59ed55fa",
   "metadata": {},
   "outputs": [],
   "source": [
    "random_indexes = random.sample(range(len(painting_description_lst)), 100)"
   ]
  },
  {
   "cell_type": "code",
   "execution_count": 49,
   "id": "94f07071",
   "metadata": {},
   "outputs": [],
   "source": [
    "ground_truth_lst = []\n",
    "\n",
    "for painting in [painting_description_lst[i] for i in random_indexes]:\n",
    "\n",
    "    query_lst_of_dicts = [{'id': painting['id'],'question': q} for q in generate_ground_truth_questions(5, painting['artwork_text'])]\n",
    "\n",
    "    ground_truth_lst.extend(query_lst_of_dicts)"
   ]
  },
  {
   "cell_type": "code",
   "execution_count": 51,
   "id": "c0fe52bc",
   "metadata": {},
   "outputs": [],
   "source": [
    "import csv \n",
    "\n",
    "with open('ground_truth.csv', 'w', newline='') as f:\n",
    "    writer = csv.DictWriter(f, fieldnames=['id', 'question'])\n",
    "    writer.writeheader()\n",
    "    writer.writerows(ground_truth_lst)"
   ]
  },
  {
   "cell_type": "code",
   "execution_count": null,
   "id": "40d3e826",
   "metadata": {},
   "outputs": [],
   "source": []
  }
 ],
 "metadata": {
  "kernelspec": {
   "display_name": "venv",
   "language": "python",
   "name": "python3"
  },
  "language_info": {
   "codemirror_mode": {
    "name": "ipython",
    "version": 3
   },
   "file_extension": ".py",
   "mimetype": "text/x-python",
   "name": "python",
   "nbconvert_exporter": "python",
   "pygments_lexer": "ipython3",
   "version": "3.12.1"
  }
 },
 "nbformat": 4,
 "nbformat_minor": 5
}
