{
 "cells": [
  {
   "cell_type": "code",
   "execution_count": 4,
   "id": "5dcd9228",
   "metadata": {},
   "outputs": [
    {
     "data": {
      "text/plain": [
       "CollectionsResponse(collections=[])"
      ]
     },
     "execution_count": 4,
     "metadata": {},
     "output_type": "execute_result"
    }
   ],
   "source": [
    "from qdrant_client import QdrantClient \n",
    "\n",
    "client = QdrantClient(\"http://localhost:6333\")\n",
    "client.get_collections()"
   ]
  },
  {
   "cell_type": "code",
   "execution_count": 7,
   "id": "1472dd3f",
   "metadata": {},
   "outputs": [],
   "source": [
    "from pathlib import Path\n",
    "import json\n",
    "\n",
    "json_path = Path('../src/met_museum_objects_full.json')\n",
    "with open(json_path) as f:\n",
    "    data = json.load(f)"
   ]
  },
  {
   "cell_type": "code",
   "execution_count": 8,
   "id": "2d6f1127",
   "metadata": {},
   "outputs": [],
   "source": [
    "sample_object = data[0]"
   ]
  },
  {
   "cell_type": "code",
   "execution_count": 22,
   "id": "761e8687",
   "metadata": {},
   "outputs": [
    {
     "data": {
      "text/plain": [
       "{'artwork_id': 436418,\n",
       " 'artwork_text': \"Jerusalem from the Mount of Olives by Charles-Théodore Frère. The description of the artwork is: 'This panoramic view was commissioned from Frère by the New York collector Catharine Lorillard Wolfe by 1880, when it was first described as being in her possession. Because the artist had not been to the Holy Land for twenty years—he had last traveled there as part of Empress Eugénie’s retinue in 1861—the composition must be based on one or more earlier studies or photographs.'. The source/origin of the artwork is Catharine Lorillard Wolfe Collection, Bequest of Catharine Lorillard Wolf, the Metropolitan Museum of Art acquired the artwork in 1887. The medium for the painting is Oil on canvas, and the dimensions are 29 1/2 x 43 1/2 in. (74.9 x 110.5 cm). The artwork is presented at gallery 804, located on the map here https://maps.metmuseum.org/poi?_gl=1%2A1958ftb%2A_ga%2AMjk2MzAzMzczLjE3MDE4NzY3NzM.%2A_ga_Y0W8DGNBTB%2AMTcwODk4Mjg3Ny4yNDcuMS4xNzA4OTgyODgxLjAuMC4w&feature=d7aa2496e2d25258a25e3ca24e46d759&floor=2&screenmode=base&search=405#19/40.7782083/-73.9638754/-61. Charles-Théodore Frère is French, their bio is: 'French, Paris 1814–1888 Paris'. Charles-Théodore Frère lived from 1814 to 1888. The painting was started in 1870 and completed in 1880, and is a popular and important artwork in Charles-Théodore Frère's collection, and is currently in the public domain. The following artists are related to Jerusalem from the Mount of Olives : ['Charles-Théodore Frère']. The following tags are related to Jerusalem from the Mount of Olives : ['Tents', 'Men', 'Camels', 'Deserts', 'Hills', 'Orientalist'].\",\n",
       " 'primary_image_url': 'https://images.metmuseum.org/CRDImages/ep/original/DT2000.jpg',\n",
       " 'artist_bio_url': 'https://www.wikidata.org/wiki/Q323928',\n",
       " 'artwork_url': 'https://www.metmuseum.org/art/collection/search/436418'}"
      ]
     },
     "execution_count": 22,
     "metadata": {},
     "output_type": "execute_result"
    }
   ],
   "source": [
    "from typing import Dict\n",
    "def prepare_painting_description(painting_obj: Dict) -> Dict:\n",
    "\n",
    "    obj_copy = painting_obj.copy()\n",
    "\n",
    "    intro_statement = f\"{obj_copy.get('title', '')} by {obj_copy.get('artistDisplayName')}\"\n",
    "    artist_bio = f\"{obj_copy.get('artistDisplayName')} is {obj_copy.get('artistNationality')}, their bio is: '{obj_copy.get('artistDisplayBio')}'. {obj_copy.get('artistDisplayName')} lived from {obj_copy.get('artistBeginDate')} to {obj_copy.get('artistEndDate')}\"\n",
    "    \n",
    "    artwork_origin = f\"The source/origin of the artwork is {obj_copy.get('creditLine')[:-7]}, the Metropolitan Museum of Art acquired the artwork in {obj_copy.get('creditLine')[-4:]}\"\n",
    "\n",
    "    medium_dimensions = f\"The medium for the painting is {obj_copy.get('medium', 'canvas')}, and the dimensions are {obj_copy.get('dimensions', 'unknown')}\"\n",
    "\n",
    "    gallery_location = f\"The artwork is presented at gallery {obj_copy.get(\"GalleryNumber\")}, located on the map here {obj_copy.get(\"galleryLink\")}\" if obj_copy.get(\"GalleryNumber\") != \"\"  else \"The artwork is currently not showcased at the museum\"\n",
    "\n",
    "    artwork_description = f\"The description of the artwork is: '{obj_copy.get(\"itemDescription\")}'\"\n",
    "\n",
    "    #tags\n",
    "    tags_lst = []\n",
    "    tags_text = \"\"\n",
    "    try:\n",
    "        if len(obj_copy.get(\"tags\")) > 0:\n",
    "            for tag in obj_copy.get(\"tags\"):\n",
    "                try:\n",
    "                    tags_lst.append(tag['term'])\n",
    "                except:\n",
    "                    continue\n",
    "            tags_text = f\"The following tags are related to {obj_copy.get('title', '')} : {tags_lst}\"\n",
    "        else:\n",
    "            tags_text = \"\"\n",
    "    except:\n",
    "        tags_text = \"\"\n",
    "\n",
    "    #artists\n",
    "    artist_lst = []\n",
    "    artist_text = \"\"\n",
    "    try:\n",
    "        if len(obj_copy.get(\"constituents\")) > 0:\n",
    "            for constituent in obj_copy.get(\"constituents\"):\n",
    "                try:\n",
    "                    artist_lst.append(constituent['name'])\n",
    "                except:\n",
    "                    continue\n",
    "            artist_text = f\"The following artists are related to {obj_copy.get('title', '')} : {artist_lst}\"\n",
    "        else:\n",
    "            artist_text = \"\"\n",
    "    except:\n",
    "        artist_text = \"\"\n",
    "\n",
    "    #painting work\n",
    "    painting_work_duration = \"\"\n",
    "    if obj_copy.get('objectBeginDate', 0) == obj_copy.get('objectEndDate', 0):\n",
    "        painting_work_duration = f\"The painting was started and completed in {obj_copy.get('objectBeginDate', 0)}\"\n",
    "    else:\n",
    "        painting_work_duration = f\"The painting was started in {obj_copy.get('objectBeginDate', 0)} and completed in {obj_copy.get('objectEndDate', 0)}\"\n",
    "\n",
    "    public_importance = f\"and {'is' if obj_copy.get('isHighlight') == False else 'is not'} a popular and important artwork in {obj_copy.get('artistDisplayName')}'s collection, {'and is currently in the public domain' if obj_copy.get('isHighlight') == False else 'is not currently in the public domain'}\"\n",
    "\n",
    "    text = f\"\"\"\n",
    "    {intro_statement}. {artwork_description}. {artwork_origin}. {medium_dimensions}. {gallery_location}. {artist_bio}. {painting_work_duration}, {public_importance}. {artist_text}. {tags_text}.\n",
    "\"\"\".strip()\n",
    "\n",
    "    data_dict = {\n",
    "        'artwork_id': obj_copy.get('objectID'),\n",
    "        'artwork_text': text,\n",
    "        'primary_image_url': obj_copy.get('primaryImage', ''),\n",
    "        'artist_bio_url': obj_copy.get('artistWikidata_URL', ''),\n",
    "        'artwork_url': obj_copy.get('objectURL', '')\n",
    "    }\n",
    "\n",
    "    return data_dict \n",
    "\n",
    "\n",
    "prepare_painting_description(sample_object)\n",
    "    \n"
   ]
  },
  {
   "cell_type": "code",
   "execution_count": null,
   "id": "e10e2b8e",
   "metadata": {},
   "outputs": [],
   "source": [
    "artwork_obj_lst = []\n",
    "\n",
    "for obj in data:\n",
    "    try:\n",
    "        artwork_obj = prepare_painting_description(obj)\n",
    "        artwork_obj_lst.append(artwork_obj)\n",
    "    except:\n",
    "        print(artwork_obj)"
   ]
  },
  {
   "cell_type": "code",
   "execution_count": null,
   "id": "1bb995dd",
   "metadata": {},
   "outputs": [
    {
     "data": {
      "text/plain": [
       "True"
      ]
     },
     "execution_count": 19,
     "metadata": {},
     "output_type": "execute_result"
    }
   ],
   "source": [
    "# Create the collection with sparse and dense vector types\n",
    "from qdrant_client import models\n",
    "\n",
    "client.create_collection(\n",
    "    collection_name=\"met-museum-euro-artworks\",\n",
    "    vectors_config={\n",
    "        \"jina-small\": models.VectorParams(\n",
    "            size=512,\n",
    "            distance=models.Distance.COSINE\n",
    "        ),\n",
    "    },\n",
    "    sparse_vectors_config={\n",
    "        \"bm25\": models.SparseVectorParams(\n",
    "            modifier=models.Modifier.IDF,\n",
    "        )\n",
    "    }\n",
    ")"
   ]
  },
  {
   "cell_type": "code",
   "execution_count": 28,
   "id": "00197ee2",
   "metadata": {},
   "outputs": [
    {
     "data": {
      "application/vnd.jupyter.widget-view+json": {
       "model_id": "5fc3c5f1e424487c8888db387577da37",
       "version_major": 2,
       "version_minor": 0
      },
      "text/plain": [
       "Fetching 5 files:   0%|          | 0/5 [00:00<?, ?it/s]"
      ]
     },
     "metadata": {},
     "output_type": "display_data"
    },
    {
     "data": {
      "application/vnd.jupyter.widget-view+json": {
       "model_id": "71171921afaf4885b1385ab2b9f70cfe",
       "version_major": 2,
       "version_minor": 0
      },
      "text/plain": [
       "special_tokens_map.json:   0%|          | 0.00/125 [00:00<?, ?B/s]"
      ]
     },
     "metadata": {},
     "output_type": "display_data"
    },
    {
     "data": {
      "application/vnd.jupyter.widget-view+json": {
       "model_id": "b4b4f739c9bd47c1aa159d20cfb966f6",
       "version_major": 2,
       "version_minor": 0
      },
      "text/plain": [
       "tokenizer.json: 0.00B [00:00, ?B/s]"
      ]
     },
     "metadata": {},
     "output_type": "display_data"
    },
    {
     "data": {
      "application/vnd.jupyter.widget-view+json": {
       "model_id": "68405c0f18974b75af7e3c6f5278d1b1",
       "version_major": 2,
       "version_minor": 0
      },
      "text/plain": [
       "config.json: 0.00B [00:00, ?B/s]"
      ]
     },
     "metadata": {},
     "output_type": "display_data"
    },
    {
     "data": {
      "application/vnd.jupyter.widget-view+json": {
       "model_id": "2f78782c5d684641871c54b7fdd6ba07",
       "version_major": 2,
       "version_minor": 0
      },
      "text/plain": [
       "tokenizer_config.json:   0%|          | 0.00/367 [00:00<?, ?B/s]"
      ]
     },
     "metadata": {},
     "output_type": "display_data"
    },
    {
     "data": {
      "application/vnd.jupyter.widget-view+json": {
       "model_id": "de2a9b0601c447cc8f753b109669adef",
       "version_major": 2,
       "version_minor": 0
      },
      "text/plain": [
       "onnx/model.onnx:   0%|          | 0.00/130M [00:00<?, ?B/s]"
      ]
     },
     "metadata": {},
     "output_type": "display_data"
    },
    {
     "data": {
      "application/vnd.jupyter.widget-view+json": {
       "model_id": "88c47194f28d4402ab8ee24316ce859b",
       "version_major": 2,
       "version_minor": 0
      },
      "text/plain": [
       "arabic.txt: 0.00B [00:00, ?B/s]"
      ]
     },
     "metadata": {},
     "output_type": "display_data"
    },
    {
     "data": {
      "application/vnd.jupyter.widget-view+json": {
       "model_id": "3b714ba97ceb483292e2fcbcb4e3bae1",
       "version_major": 2,
       "version_minor": 0
      },
      "text/plain": [
       "config.json:   0%|          | 0.00/2.00 [00:00<?, ?B/s]"
      ]
     },
     "metadata": {},
     "output_type": "display_data"
    },
    {
     "data": {
      "application/vnd.jupyter.widget-view+json": {
       "model_id": "842db6d3b3414ea091469802a63fc3c9",
       "version_major": 2,
       "version_minor": 0
      },
      "text/plain": [
       "Fetching 18 files:   0%|          | 0/18 [00:00<?, ?it/s]"
      ]
     },
     "metadata": {},
     "output_type": "display_data"
    },
    {
     "data": {
      "application/vnd.jupyter.widget-view+json": {
       "model_id": "52a36a55fb634d58923eae6d4b4606c1",
       "version_major": 2,
       "version_minor": 0
      },
      "text/plain": [
       "greek.txt: 0.00B [00:00, ?B/s]"
      ]
     },
     "metadata": {},
     "output_type": "display_data"
    },
    {
     "data": {
      "application/vnd.jupyter.widget-view+json": {
       "model_id": "d0fc1df7ac6e407d947c32ee7b766d49",
       "version_major": 2,
       "version_minor": 0
      },
      "text/plain": [
       "hungarian.txt: 0.00B [00:00, ?B/s]"
      ]
     },
     "metadata": {},
     "output_type": "display_data"
    },
    {
     "data": {
      "application/vnd.jupyter.widget-view+json": {
       "model_id": "a6bc25b620fd46b6b682deb28d8bedd9",
       "version_major": 2,
       "version_minor": 0
      },
      "text/plain": [
       "danish.txt:   0%|          | 0.00/424 [00:00<?, ?B/s]"
      ]
     },
     "metadata": {},
     "output_type": "display_data"
    },
    {
     "data": {
      "application/vnd.jupyter.widget-view+json": {
       "model_id": "f46ae847acdc4bec8bbda177ca134a9b",
       "version_major": 2,
       "version_minor": 0
      },
      "text/plain": [
       "finnish.txt: 0.00B [00:00, ?B/s]"
      ]
     },
     "metadata": {},
     "output_type": "display_data"
    },
    {
     "data": {
      "application/vnd.jupyter.widget-view+json": {
       "model_id": "744d050e3dc94e7988f7c36b4b0c45a3",
       "version_major": 2,
       "version_minor": 0
      },
      "text/plain": [
       "dutch.txt:   0%|          | 0.00/453 [00:00<?, ?B/s]"
      ]
     },
     "metadata": {},
     "output_type": "display_data"
    },
    {
     "data": {
      "application/vnd.jupyter.widget-view+json": {
       "model_id": "04c5eaf9b2ff4b918e7cf95d761dba5d",
       "version_major": 2,
       "version_minor": 0
      },
      "text/plain": [
       "italian.txt: 0.00B [00:00, ?B/s]"
      ]
     },
     "metadata": {},
     "output_type": "display_data"
    },
    {
     "data": {
      "application/vnd.jupyter.widget-view+json": {
       "model_id": "661db5f5a1bd4ebfbe7fc6903865c85b",
       "version_major": 2,
       "version_minor": 0
      },
      "text/plain": [
       "french.txt:   0%|          | 0.00/813 [00:00<?, ?B/s]"
      ]
     },
     "metadata": {},
     "output_type": "display_data"
    },
    {
     "data": {
      "application/vnd.jupyter.widget-view+json": {
       "model_id": "68908684d0e84a6eac0337e39e1bed3a",
       "version_major": 2,
       "version_minor": 0
      },
      "text/plain": [
       "norwegian.txt:   0%|          | 0.00/851 [00:00<?, ?B/s]"
      ]
     },
     "metadata": {},
     "output_type": "display_data"
    },
    {
     "data": {
      "application/vnd.jupyter.widget-view+json": {
       "model_id": "0a73286254294a00842cb8e5b81c9513",
       "version_major": 2,
       "version_minor": 0
      },
      "text/plain": [
       "german.txt: 0.00B [00:00, ?B/s]"
      ]
     },
     "metadata": {},
     "output_type": "display_data"
    },
    {
     "data": {
      "application/vnd.jupyter.widget-view+json": {
       "model_id": "3e67abeafdf04a6da7e8fe26557f5556",
       "version_major": 2,
       "version_minor": 0
      },
      "text/plain": [
       "english.txt:   0%|          | 0.00/936 [00:00<?, ?B/s]"
      ]
     },
     "metadata": {},
     "output_type": "display_data"
    },
    {
     "data": {
      "application/vnd.jupyter.widget-view+json": {
       "model_id": "3270c90686f648f48e299db8ac4d2cb0",
       "version_major": 2,
       "version_minor": 0
      },
      "text/plain": [
       "romanian.txt: 0.00B [00:00, ?B/s]"
      ]
     },
     "metadata": {},
     "output_type": "display_data"
    },
    {
     "data": {
      "application/vnd.jupyter.widget-view+json": {
       "model_id": "c228fcef0bee4ad5baf5a71052545f30",
       "version_major": 2,
       "version_minor": 0
      },
      "text/plain": [
       "portuguese.txt: 0.00B [00:00, ?B/s]"
      ]
     },
     "metadata": {},
     "output_type": "display_data"
    },
    {
     "data": {
      "application/vnd.jupyter.widget-view+json": {
       "model_id": "97b4c541eb9f4b3ca2c726d7f073ad9b",
       "version_major": 2,
       "version_minor": 0
      },
      "text/plain": [
       "swedish.txt:   0%|          | 0.00/559 [00:00<?, ?B/s]"
      ]
     },
     "metadata": {},
     "output_type": "display_data"
    },
    {
     "data": {
      "application/vnd.jupyter.widget-view+json": {
       "model_id": "10322664d9a14eb7b528fd89cc80e94d",
       "version_major": 2,
       "version_minor": 0
      },
      "text/plain": [
       "russian.txt: 0.00B [00:00, ?B/s]"
      ]
     },
     "metadata": {},
     "output_type": "display_data"
    },
    {
     "data": {
      "application/vnd.jupyter.widget-view+json": {
       "model_id": "0e5007024ee44397a0c56b2a21201fb4",
       "version_major": 2,
       "version_minor": 0
      },
      "text/plain": [
       "spanish.txt: 0.00B [00:00, ?B/s]"
      ]
     },
     "metadata": {},
     "output_type": "display_data"
    },
    {
     "data": {
      "application/vnd.jupyter.widget-view+json": {
       "model_id": "26262bc40a714ad08b40129da96f5dda",
       "version_major": 2,
       "version_minor": 0
      },
      "text/plain": [
       "turkish.txt:   0%|          | 0.00/260 [00:00<?, ?B/s]"
      ]
     },
     "metadata": {},
     "output_type": "display_data"
    },
    {
     "data": {
      "text/plain": [
       "UpdateResult(operation_id=0, status=<UpdateStatus.COMPLETED: 'completed'>)"
      ]
     },
     "execution_count": 28,
     "metadata": {},
     "output_type": "execute_result"
    }
   ],
   "source": [
    "client.upsert(\n",
    "    collection_name=\"met-museum-euro-artworks\",\n",
    "    points = [\n",
    "        models.PointStruct(\n",
    "            id=artwork_obj['artwork_id'],\n",
    "            vector = {\n",
    "                \"jina-small\": models.Document(\n",
    "                    text = artwork_obj['artwork_text'],\n",
    "                    model=\"jinaai/jina-embeddings-v2-small-en\"\n",
    "                ),\n",
    "                \"bm25\": models.Document(\n",
    "                    text=artwork_obj['artwork_text'],\n",
    "                    model=\"Qdrant/bm25\"\n",
    "\n",
    "                )\n",
    "            },\n",
    "            payload={\n",
    "                \"artwork_text\": artwork_obj['artwork_text'],\n",
    "                'artwork_image_url': artwork_obj['primary_image_url'],\n",
    "                'artist_url': artwork_obj['artist_bio_url'],\n",
    "                'artwork_bio_url': artwork_obj['artwork_url']\n",
    "                    }\n",
    "        )\n",
    "     for artwork_obj in artwork_obj_lst\n",
    "    ] \n",
    ")"
   ]
  },
  {
   "cell_type": "code",
   "execution_count": 32,
   "id": "e87a3b81",
   "metadata": {},
   "outputs": [],
   "source": [
    "def multi_stage_search(query:str, limit: int = 1) -> list[models.ScoredPoint]:\n",
    "    results = client.query_points(\n",
    "        collection_name=\"met-museum-euro-artworks\",\n",
    "        prefetch=[\n",
    "            models.Prefetch(\n",
    "                query=models.Document(\n",
    "                    text=query,\n",
    "                    model=\"jinaai/jina-embeddings-v2-small-en\",\n",
    "                ),\n",
    "                using=\"jina-small\",\n",
    "                # Prefetch ten times more results, then\n",
    "                # expected to return, so we can really rerank\n",
    "                limit=(10 * limit),\n",
    "            ),\n",
    "        ],\n",
    "        query=models.Document(\n",
    "            text=query,\n",
    "            model=\"Qdrant/bm25\", \n",
    "        ),\n",
    "        using=\"bm25\",\n",
    "        limit=limit,\n",
    "        with_payload=True,\n",
    "    )\n",
    "\n",
    "\n",
    "    return results.points"
   ]
  },
  {
   "cell_type": "code",
   "execution_count": 33,
   "id": "a2a9e6f1",
   "metadata": {},
   "outputs": [
    {
     "name": "stdout",
     "output_type": "stream",
     "text": [
      "[ScoredPoint(id=437620, version=0, score=4.0370765, payload={'artwork_text': \"Nymph and Putti; Nymph with a Wreath and Putti with Garlands of Flowers by Piat Joseph Sauvage. The description of the artwork is: 'Sauvage’s name was synonymous with trompe l’oeil (fool the eye) paintings that imitated the low relief carvings in ancient sculpture that became hugely popular during the late eighteenth century. In these unusual examples, Sauvage used a thick slate support to which he added oil paint in imitation of wax, a flexible medium often used by sculptors who were working out a composition before they began carving in unforgiving stone. The result is a brilliant play on artistic process and the differences between painting and sculpture, a recurrent comparison in the Western tradition. The reverse sides of these slate slabs are carved with the name of a cabinetmaker, indicating that Sauvage repurposed his supports from another craftsman’s shop sign.'. The source/origin of the artwork is Gift of J. Pierpont Morga, the Metropolitan Museum of Art acquired the artwork in 1906. The medium for the painting is Oil on slate, and the dimensions are (a) 9 1/2 x 23 1/4 in. (24.1 x 59.1 cm); (b) 9 5/8 x 23 3/4 in. (24.4 x 60.3 cm). The artwork is presented at gallery 640, located on the map here https://maps.metmuseum.org/poi?_gl=1%2A1ez7ye8%2A_ga%2AMjk2MzAzMzczLjE3MDE4NzY3NzM.%2A_ga_Y0W8DGNBTB%2AMTcwMjk5NTAzNS4zNS4xLjE3MDMwMDEyMjYuMC4wLjA.&feature=95f6f364fbcea423ebbb36048456cf04&floor=2&screenmode=base&search=403#19/40.7796853/-73.9637802/-61. Piat Joseph Sauvage is Flemish, their bio is: 'Flemish, Tournai 1744–1818 Tournai'. Piat Joseph Sauvage lived from 1744 to 1818. The painting was started in 1763 and completed in 1818, and is a popular and important artwork in Piat Joseph Sauvage's collection, and is currently in the public domain. The following artists are related to Nymph and Putti; Nymph with a Wreath and Putti with Garlands of Flowers : ['Piat Joseph Sauvage']. The following tags are related to Nymph and Putti; Nymph with a Wreath and Putti with Garlands of Flowers : ['Nymphs', 'Putti'].\", 'artwork_image_url': 'https://images.metmuseum.org/CRDImages/ep/original/DP253872.jpg', 'artist_url': 'https://www.wikidata.org/wiki/Q3382227', 'artwork_bio_url': 'https://www.metmuseum.org/art/collection/search/437620'}, vector=None, shard_key=None, order_value=None)]\n"
     ]
    }
   ],
   "source": [
    "results = multi_stage_search(\"Are there any paintings at the musuem that use oil on canvas as its medium?\")\n",
    "\n",
    "print(results)"
   ]
  },
  {
   "cell_type": "code",
   "execution_count": 35,
   "id": "7570360b",
   "metadata": {},
   "outputs": [
    {
     "name": "stdout",
     "output_type": "stream",
     "text": [
      "Nymph and Putti; Nymph with a Wreath and Putti with Garlands of Flowers by Piat Joseph Sauvage. The description of the artwork is: 'Sauvage’s name was synonymous with trompe l’oeil (fool the eye) paintings that imitated the low relief carvings in ancient sculpture that became hugely popular during the late eighteenth century. In these unusual examples, Sauvage used a thick slate support to which he added oil paint in imitation of wax, a flexible medium often used by sculptors who were working out a composition before they began carving in unforgiving stone. The result is a brilliant play on artistic process and the differences between painting and sculpture, a recurrent comparison in the Western tradition. The reverse sides of these slate slabs are carved with the name of a cabinetmaker, indicating that Sauvage repurposed his supports from another craftsman’s shop sign.'. The source/origin of the artwork is Gift of J. Pierpont Morga, the Metropolitan Museum of Art acquired the artwork in 1906. The medium for the painting is Oil on slate, and the dimensions are (a) 9 1/2 x 23 1/4 in. (24.1 x 59.1 cm); (b) 9 5/8 x 23 3/4 in. (24.4 x 60.3 cm). The artwork is presented at gallery 640, located on the map here https://maps.metmuseum.org/poi?_gl=1%2A1ez7ye8%2A_ga%2AMjk2MzAzMzczLjE3MDE4NzY3NzM.%2A_ga_Y0W8DGNBTB%2AMTcwMjk5NTAzNS4zNS4xLjE3MDMwMDEyMjYuMC4wLjA.&feature=95f6f364fbcea423ebbb36048456cf04&floor=2&screenmode=base&search=403#19/40.7796853/-73.9637802/-61. Piat Joseph Sauvage is Flemish, their bio is: 'Flemish, Tournai 1744–1818 Tournai'. Piat Joseph Sauvage lived from 1744 to 1818. The painting was started in 1763 and completed in 1818, and is a popular and important artwork in Piat Joseph Sauvage's collection, and is currently in the public domain. The following artists are related to Nymph and Putti; Nymph with a Wreath and Putti with Garlands of Flowers : ['Piat Joseph Sauvage']. The following tags are related to Nymph and Putti; Nymph with a Wreath and Putti with Garlands of Flowers : ['Nymphs', 'Putti'].\n"
     ]
    }
   ],
   "source": [
    "for result in results:\n",
    "    print(result.payload['artwork_text'])"
   ]
  },
  {
   "cell_type": "code",
   "execution_count": null,
   "id": "db79e6d5",
   "metadata": {},
   "outputs": [],
   "source": []
  }
 ],
 "metadata": {
  "kernelspec": {
   "display_name": "venv",
   "language": "python",
   "name": "python3"
  },
  "language_info": {
   "codemirror_mode": {
    "name": "ipython",
    "version": 3
   },
   "file_extension": ".py",
   "mimetype": "text/x-python",
   "name": "python",
   "nbconvert_exporter": "python",
   "pygments_lexer": "ipython3",
   "version": "3.12.1"
  }
 },
 "nbformat": 4,
 "nbformat_minor": 5
}
